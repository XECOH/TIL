{
 "cells": [
  {
   "cell_type": "markdown",
   "metadata": {},
   "source": [
    "## 보충 Q0.\n",
    "\n",
    "> 아래의 세부 문제를 풀어보시오."
   ]
  },
  {
   "cell_type": "code",
   "execution_count": 2,
   "metadata": {},
   "outputs": [],
   "source": [
    "# 해당 셀을 실행 해주세요.\n",
    "development = {\n",
    "    'category': ['web', 'mobile', 'algorithms', 'deep learning'],\n",
    "    'language': {\n",
    "        'python': {\n",
    "            'python standard library': ['os', 'random', 'webbrowser'],\n",
    "            'frameworks': {\n",
    "                'flask': 'micro',\n",
    "                'django': 'full-functioning'\n",
    "            },\n",
    "            'data_science': ['numpy', 'pandas', 'scipy', 'sklearn'],\n",
    "            'scraping': ['requests', 'bs4'],\n",
    "        },\n",
    "        'javascript': {\n",
    "            'frameworks': ['vue']\n",
    "        }\n",
    "    },\n",
    "    'git': {\n",
    "       'definition': 'DVCS',\n",
    "       'services': ['github', 'gitlab', 'bitbucket'],\n",
    "       'book': 'https://git-scm.com/book/ko/v2'\n",
    "    }\n",
    "}\n",
    "\n",
    "idols = {\n",
    "    'group': {\n",
    "        'bts': {\n",
    "            'leader': 'RM',\n",
    "            'members': ['진', '슈가', '제이홉', '지민', '뷔', '정국']\n",
    "        },\n",
    "        '소녀시대': {\n",
    "            'leader': '태연',\n",
    "            'members': ['써니', '티파니', '효연', '유리', '수영', '윤아', '서현']\n",
    "        },\n",
    "    },\n",
    "    'solo': ['아이유', '백예린', '지코']\n",
    "}"
   ]
  },
  {
   "cell_type": "code",
   "execution_count": 14,
   "metadata": {},
   "outputs": [
    {
     "name": "stdout",
     "output_type": "stream",
     "text": [
      "['web', 'mobile', 'algorithms', 'deep learning']\n",
      "4\n"
     ]
    }
   ],
   "source": [
    "print(development['category'])\n",
    "print(len(development['category']))"
   ]
  },
  {
   "cell_type": "code",
   "execution_count": 62,
   "metadata": {},
   "outputs": [
    {
     "data": {
      "text/plain": [
       "False"
      ]
     },
     "execution_count": 62,
     "metadata": {},
     "output_type": "execute_result"
    }
   ],
   "source": [
    "if 'requests' in development['language']['python']['python standard library']:\n",
    "    print('True')\n",
    "else:\n",
    "    print('False')"
   ]
  },
  {
   "cell_type": "code",
   "execution_count": 37,
   "metadata": {},
   "outputs": [
    {
     "name": "stdout",
     "output_type": "stream",
     "text": [
      "RM\n"
     ]
    }
   ],
   "source": [
    "\"\"\"\n",
    "난이도** 3. bts 리더를 출력하세요.\n",
    "출력예시)\n",
    "RM\n",
    "\"\"\"\n",
    "print(idols['group']['bts']['leader'])"
   ]
  },
  {
   "cell_type": "code",
   "execution_count": 47,
   "metadata": {},
   "outputs": [
    {
     "name": "stdout",
     "output_type": "stream",
     "text": [
      "python\n",
      "javascript\n"
     ]
    }
   ],
   "source": [
    "\"\"\"\n",
    "난이도*** 4. 개발 언어(language)를 모두 출력하세요.\n",
    "출력 예시)\n",
    "python\n",
    "web\n",
    "\"\"\"\n",
    "for lan in development['language'].keys():\n",
    "    print(lan)"
   ]
  },
  {
   "cell_type": "code",
   "execution_count": 66,
   "metadata": {},
   "outputs": [
    {
     "name": "stdout",
     "output_type": "stream",
     "text": [
      "진\n",
      "슈가\n",
      "제이홉\n",
      "지민\n",
      "뷔\n",
      "정국\n",
      "써니\n",
      "티파니\n",
      "효연\n",
      "유리\n",
      "수영\n",
      "윤아\n",
      "서현\n"
     ]
    }
   ],
   "source": [
    "\"\"\"\n",
    "난이도**** 5. 아이돌 그룹의 멤버들을 모두 출력하세요\n",
    "출력예시)\n",
    "진\n",
    "슈가\n",
    "제이홉\n",
    "지민\n",
    "뷔\n",
    "정국\n",
    "써니\n",
    "티파니\n",
    "효연\n",
    "유리\n",
    "수영\n",
    "윤아\n",
    "서현\n",
    "\"\"\"\n",
    "\n",
    "for mem in idols['group'].values():\n",
    "    for member in mem['members']:\n",
    "        print(member)"
   ]
  },
  {
   "cell_type": "code",
   "execution_count": 32,
   "metadata": {},
   "outputs": [
    {
     "name": "stdout",
     "output_type": "stream",
     "text": [
      "flask는 micro이다.\n",
      "django는 full-functioning이다.\n"
     ]
    }
   ],
   "source": [
    "\"\"\"\n",
    "난이도**** 6. framework 들의 이름과 설명을 다음과 같이 출력하세요.\n",
    "출력예시)\n",
    "flask는 micro이다.\n",
    "django는 full-functioning이다.\n",
    "\"\"\"\n",
    "for name, fuc in development['language']['python']['frameworks'].items():\n",
    "    print(f'{name}는 {fuc}이다.')\n"
   ]
  },
  {
   "cell_type": "code",
   "execution_count": 65,
   "metadata": {},
   "outputs": [
    {
     "name": "stdout",
     "output_type": "stream",
     "text": [
      "백예린\n"
     ]
    }
   ],
   "source": [
    "\"\"\"\n",
    "난이도***** 7. 오늘의 솔로 아이돌을 랜덤으로 한명만 뽑아주세요.\n",
    "출력예시)\n",
    "아이유\n",
    "\"\"\"\n",
    "import random\n",
    "\n",
    "today_solo = random.choice(idols['solo'])\n",
    "print(today_solo)"
   ]
  },
  {
   "cell_type": "code",
   "execution_count": null,
   "metadata": {},
   "outputs": [],
   "source": []
  }
 ],
 "metadata": {
  "kernelspec": {
   "display_name": "Python 3",
   "language": "python",
   "name": "python3"
  },
  "language_info": {
   "codemirror_mode": {
    "name": "ipython",
    "version": 3
   },
   "file_extension": ".py",
   "mimetype": "text/x-python",
   "name": "python",
   "nbconvert_exporter": "python",
   "pygments_lexer": "ipython3",
   "version": "3.7.3"
  }
 },
 "nbformat": 4,
 "nbformat_minor": 2
}
