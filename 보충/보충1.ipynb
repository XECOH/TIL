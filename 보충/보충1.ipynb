{
 "cells": [
  {
   "cell_type": "markdown",
   "metadata": {},
   "source": [
    "## 보충 Q1.\n",
    "\n",
    "> 양수/음수/0의 비율을 각각 순서대로 출력하시오.\n",
    "\n",
    "```\n",
    "예시 입력)\n",
    "0 -1 3 5 \n",
    "\n",
    "예시 출력)\n",
    "0.5 0.25 0.25\n",
    "```\n",
    "\n"
   ]
  },
  {
   "cell_type": "code",
   "execution_count": 14,
   "metadata": {},
   "outputs": [
    {
     "name": "stdout",
     "output_type": "stream",
     "text": [
      "0 -1 3 5\n",
      "0.5 0.25 0.25\n"
     ]
    }
   ],
   "source": [
    "numbers = input().split(' ')\n",
    "# 아래에 코드를 작성하세요.\n",
    "p = 0\n",
    "n = 0\n",
    "nu = 0\n",
    "for num in numbers:\n",
    "    if int(num) > 0:\n",
    "        p += 1\n",
    "    elif int(num) < 0:\n",
    "        n += 1\n",
    "    else:\n",
    "        nu += 1\n",
    "    \n",
    "print(p/len(numbers), n/len(numbers), nu/len(numbers))\n"
   ]
  },
  {
   "cell_type": "markdown",
   "metadata": {},
   "source": [
    "## 보충 Q2.\n",
    "\n",
    "> justin과 neo가 카드게임을 하고 있다. 아래의 예시 값은 카드를 낸 순서이다. \n",
    ">\n",
    "> 숫자를 비교해서 같으면 0점, 숫자가 더 크면 1점이라고 할 때 justin과 neo의 점수를 순서대로 출력하시오.\n",
    "\n",
    "```\n",
    "예시 값)\n",
    "justin = [10, 6, 8, 2, 1]\n",
    "neo = [2, 7, 3, 5, 10]\n",
    "\n",
    "예시 출력)\n",
    "2 3\n",
    "```"
   ]
  },
  {
   "cell_type": "code",
   "execution_count": 4,
   "metadata": {},
   "outputs": [
    {
     "name": "stdout",
     "output_type": "stream",
     "text": [
      "2 3\n"
     ]
    }
   ],
   "source": [
    "justin = [10, 6, 8, 2, 1]\n",
    "neo = [2, 7, 3, 5, 10]\n",
    "\n",
    "# 아래에 코드를 작성하세요.\n",
    "j = 0\n",
    "n = 0\n",
    "for i in range(5):\n",
    "    if justin[i] == neo[i]:\n",
    "        j += 0\n",
    "        n += 0\n",
    "    elif justin[i] > neo[i]:\n",
    "        j += 1\n",
    "    else:\n",
    "        n += 1\n",
    "print(j, n)"
   ]
  },
  {
   "cell_type": "code",
   "execution_count": 22,
   "metadata": {},
   "outputs": [
    {
     "name": "stdout",
     "output_type": "stream",
     "text": [
      "10 2\n",
      "6 7\n",
      "8 3\n",
      "2 5\n",
      "1 10\n"
     ]
    }
   ],
   "source": [
    "for j, n in zip(justin, neo):\n",
    "    print(j, n)"
   ]
  },
  {
   "cell_type": "markdown",
   "metadata": {},
   "source": [
    "## 보충 Q3.\n",
    "\n",
    "> 두 단어 중에 중복된 알파벳이 있는지 여부를 판단하여 True 혹은 False를 반환하시오.\n",
    "\n",
    "```\n",
    "예시 입력)\n",
    "print(is_contain_same_alphabet('my', 'sweet home'))\n",
    "print(is_contain_same_alphabet('oreo', 'kikat'))\n",
    "\n",
    "예시 출력)\n",
    "True\n",
    "False\n",
    "```"
   ]
  },
  {
   "cell_type": "code",
   "execution_count": 20,
   "metadata": {},
   "outputs": [],
   "source": [
    "def is_contain_same_alphabet(a, b):\n",
    "    # 아래에 코드를 작성하시오.\n",
    "    for cha in a:\n",
    "        if cha in b:\n",
    "            return True\n",
    "    return False"
   ]
  },
  {
   "cell_type": "code",
   "execution_count": 21,
   "metadata": {},
   "outputs": [
    {
     "name": "stdout",
     "output_type": "stream",
     "text": [
      "True\n"
     ]
    }
   ],
   "source": [
    "print(is_contain_same_alphabet('my', 'sweet home'))"
   ]
  },
  {
   "cell_type": "code",
   "execution_count": null,
   "metadata": {},
   "outputs": [],
   "source": []
  }
 ],
 "metadata": {
  "kernelspec": {
   "display_name": "Python 3",
   "language": "python",
   "name": "python3"
  },
  "language_info": {
   "codemirror_mode": {
    "name": "ipython",
    "version": 3
   },
   "file_extension": ".py",
   "mimetype": "text/x-python",
   "name": "python",
   "nbconvert_exporter": "python",
   "pygments_lexer": "ipython3",
   "version": "3.7.3"
  }
 },
 "nbformat": 4,
 "nbformat_minor": 2
}
