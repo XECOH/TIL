{
 "cells": [
  {
   "cell_type": "markdown",
   "metadata": {},
   "source": [
    "# 1258"
   ]
  },
  {
   "cell_type": "code",
   "execution_count": null,
   "metadata": {},
   "outputs": [],
   "source": [
    "for tc in range(int(input())):\n",
    "    rl = list()\n",
    "    n = int(input())\n",
    "    cont = [list(map(int, input().split())) for _ in range(n)]\n",
    "    for i in range(n):\n",
    "        r = 0\n",
    "        for j in range(n):\n",
    "            if cont[j][i] != 0:\n",
    "                r += 1\n",
    "                if (j+1 <n and cont[j+1][i] == 0) or j+1 == n:\n",
    "                    rl.append(r)\n",
    "                    r = 0\n",
    "            elif cont[j][i] == 0:\n",
    "                continue\n",
    "    cnt = [0] * (max(rl)+1)\n",
    "    for r in rl:\n",
    "        for c in range(max(rl)+1):\n",
    "            if r == c:\n",
    "                cnt[c] += 1\n",
    "    rl = list(set(rl))\n",
    "    ans = list()\n",
    "    for r in rl:\n",
    "        if cnt[r] != 0:\n",
    "            ans.append([r, cnt[r]])\n",
    "    ans.sort(key = lambda x: x[0] * x[1])\n",
    "    print('#{} {} '.format(tc+1, len(ans)), end = '')\n",
    "    for i in range(len(ans)):\n",
    "        print('{} {}'.format(ans[i][0], ans[i][1]), end= ' ')"
   ]
  },
  {
   "cell_type": "markdown",
   "metadata": {},
   "source": [
    "# 1486"
   ]
  },
  {
   "cell_type": "code",
   "execution_count": null,
   "metadata": {},
   "outputs": [],
   "source": [
    "for tc in range(int(input())):\n",
    "    n, b = map(int, input().split())\n",
    "    h = list(map(int, input().split()))\n",
    "    diff = 10000\n",
    "    for i in range(1<<n):\n",
    "        sum = 0\n",
    "        for j in range(n):\n",
    "            if i&(1<<j):\n",
    "                sum += h[j]\n",
    "        if b <= sum and sum-b < diff:\n",
    "            diff = sum-b\n",
    "    print('#{} {}'.format(tc+1, diff))"
   ]
  },
  {
   "cell_type": "markdown",
   "metadata": {},
   "source": [
    "# 5432"
   ]
  },
  {
   "cell_type": "code",
   "execution_count": null,
   "metadata": {},
   "outputs": [],
   "source": [
    "for tc in range(int(input())):\n",
    "    iron = input()\n",
    "    cnt = 0\n",
    "    st = []\n",
    "    i = 0\n",
    "    while i < len(iron):\n",
    "        if iron[i] =='(' and iron[i+1] == ')' and st != []:\n",
    "            cnt += len(st)\n",
    "            i += 1\n",
    "        elif iron[i] =='(' and iron[i+1] != ')':\n",
    "            st.append(iron[i])\n",
    "            cnt += 1\n",
    "        elif iron[i] == ')' and st != []:\n",
    "            st.pop()\n",
    "        i += 1\n",
    "    print('#{} {}'.format(tc+1, cnt))"
   ]
  },
  {
   "cell_type": "markdown",
   "metadata": {},
   "source": [
    "# 7701"
   ]
  },
  {
   "cell_type": "code",
   "execution_count": null,
   "metadata": {},
   "outputs": [],
   "source": [
    "for tc in range(int(input())):\n",
    "    n = int(input())\n",
    "    names = set()\n",
    "    for i in range(n):\n",
    "        names.add(input())\n",
    "    names = list(names)\n",
    "    names.sort(key = lambda x: (len(x), x))\n",
    "    print('#{}'.format(tc+1))\n",
    "    for name in names:\n",
    "        print('{}'.format(name))"
   ]
  },
  {
   "cell_type": "markdown",
   "metadata": {},
   "source": [
    "# 4408"
   ]
  },
  {
   "cell_type": "code",
   "execution_count": null,
   "metadata": {},
   "outputs": [],
   "source": [
    "for tc in range(1, int(input())+1):\n",
    "    n = int(input())\n",
    "    rooms = [0] * 200\n",
    "    for i in range(n):\n",
    "        cr, mr = map(int, input().split())\n",
    "        if cr % 2:\n",
    "            cr = (cr//2)\n",
    "        else:\n",
    "            cr = (cr//2)-1\n",
    "        if mr % 2:\n",
    "            mr = (mr//2)\n",
    "        else:\n",
    "            mr = (mr//2)-1\n",
    "        for c in range(min(cr, mr), max(cr, mr)+1):\n",
    "            rooms[c] += 1\n",
    "    print('#{} {}'.format(tc, max(rooms)))"
   ]
  },
  {
   "cell_type": "markdown",
   "metadata": {},
   "source": [
    "# 3347"
   ]
  },
  {
   "cell_type": "code",
   "execution_count": null,
   "metadata": {},
   "outputs": [],
   "source": [
    "for tc in range(1, int(input())+1):\n",
    "    n, m = map(int, input().split())\n",
    "    a = list(map(int, input().split()))\n",
    "    b = list(map(int, input().split()))\n",
    "    cnt = [0] * n\n",
    "    for i in range(m):\n",
    "        j = 0\n",
    "        while j < n:\n",
    "            if b[i] >= a[j]:\n",
    "                cnt[j] += 1\n",
    "                break\n",
    "            j += 1\n",
    "    print('#{} {}'.format(tc, cnt.index(max(cnt))+1))"
   ]
  },
  {
   "cell_type": "markdown",
   "metadata": {},
   "source": [
    "# 1223"
   ]
  },
  {
   "cell_type": "code",
   "execution_count": null,
   "metadata": {},
   "outputs": [],
   "source": [
    "def icp(t): #스택에 넣을 때\n",
    "    if t =='*':\n",
    "        return 2\n",
    "    else:\n",
    "        return 1\n",
    "\n",
    "def isp(t): # 스택안에\n",
    "    if t == '*':\n",
    "        return 2\n",
    "    else:\n",
    "        return 1\n",
    "\n",
    "def operation(arr):\n",
    "    op = ['*', '+']\n",
    "    st = []\n",
    "    for c in arr:\n",
    "        if c not in op:\n",
    "            st. append(c)\n",
    "        else:\n",
    "            if c == '*':\n",
    "                op1= st.pop()\n",
    "                op2= st.pop()\n",
    "                st.append(op1*op2)\n",
    "            else:\n",
    "                op1 = st.pop()\n",
    "                op2 = st.pop()\n",
    "                st.append(op1+op2)\n",
    "    return st[0]\n",
    "\n",
    "for tc in range(1, 2):\n",
    "    l = int(input())\n",
    "    c = list(map(str, input()))\n",
    "    operator = ['*', '+']\n",
    "    postfix = []\n",
    "    st = []\n",
    "    for i in c:\n",
    "        if i not in operator:\n",
    "            postfix.append(int(i))\n",
    "        else:\n",
    "            if st == []:\n",
    "                st.append(i)\n",
    "            else:\n",
    "                top = st[-1]\n",
    "                if icp(i) > isp(top):\n",
    "                    st.append(i)\n",
    "                elif icp(i) == isp(top):\n",
    "                    postfix.append(st.pop())\n",
    "                    st.append(i)\n",
    "                else:\n",
    "                    while st:\n",
    "                        top = st[-1]\n",
    "                        if isp(top) < icp(i):\n",
    "                            break\n",
    "                        else:\n",
    "                            postfix.append(st.pop())\n",
    "                    st.append(i)    \n",
    "    while st:\n",
    "        postfix.append(st.pop())\n",
    "    print('#{} {}'. format(tc, operation(postfix)))"
   ]
  },
  {
   "cell_type": "markdown",
   "metadata": {},
   "source": [
    "# 1222"
   ]
  },
  {
   "cell_type": "code",
   "execution_count": null,
   "metadata": {},
   "outputs": [],
   "source": [
    "def icp(t): #스택에 넣을 때\n",
    "    return 1\n",
    "\n",
    "def isp(t): # 스택안에\n",
    "    return 1\n",
    "\n",
    "def operation(arr):\n",
    "    op = ['+']\n",
    "    st = []\n",
    "    for c in arr:\n",
    "        if c not in op:\n",
    "            st. append(c)\n",
    "        else:\n",
    "            op1 = st.pop()\n",
    "            op2 = st.pop()\n",
    "            st.append(op1+op2)\n",
    "    return st[0]\n",
    "\n",
    "for tc in range(1, 11):\n",
    "    l = int(input())\n",
    "    c = list(map(str, input()))\n",
    "    operator = ['+']\n",
    "    postfix = []\n",
    "    st = []\n",
    "    for i in c:\n",
    "        if i not in operator:\n",
    "            postfix.append(int(i))\n",
    "        else:\n",
    "            if st == []:\n",
    "                st.append(i)\n",
    "            else:\n",
    "                top = st[-1]\n",
    "                if icp(i) > isp(top):\n",
    "                    st.append(i)\n",
    "                elif icp(i) == isp(top):\n",
    "                    postfix.append(st.pop())\n",
    "                    st.append(i)\n",
    "                else:\n",
    "                    while st:\n",
    "                        top = st[-1]\n",
    "                        if isp(top) < icp(i):\n",
    "                            break\n",
    "                        else:\n",
    "                            postfix.append(st.pop())\n",
    "                    st.append(i)    \n",
    "    while st:\n",
    "        postfix.append(st.pop())\n",
    "    print('#{} {}'. format(tc, operation(postfix)))"
   ]
  }
 ],
 "metadata": {
  "kernelspec": {
   "display_name": "Python 3",
   "language": "python",
   "name": "python3"
  },
  "language_info": {
   "codemirror_mode": {
    "name": "ipython",
    "version": 3
   },
   "file_extension": ".py",
   "mimetype": "text/x-python",
   "name": "python",
   "nbconvert_exporter": "python",
   "pygments_lexer": "ipython3",
   "version": "3.7.3"
  }
 },
 "nbformat": 4,
 "nbformat_minor": 4
}
