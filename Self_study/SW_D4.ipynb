{
 "cells": [
  {
   "cell_type": "markdown",
   "metadata": {},
   "source": [
    "# 1258"
   ]
  },
  {
   "cell_type": "code",
   "execution_count": null,
   "metadata": {},
   "outputs": [],
   "source": [
    "for tc in range(int(input())):\n",
    "    rl = list()\n",
    "    n = int(input())\n",
    "    cont = [list(map(int, input().split())) for _ in range(n)]\n",
    "    for i in range(n):\n",
    "        r = 0\n",
    "        for j in range(n):\n",
    "            if cont[j][i] != 0:\n",
    "                r += 1\n",
    "                if (j+1 <n and cont[j+1][i] == 0) or j+1 == n:\n",
    "                    rl.append(r)\n",
    "                    r = 0\n",
    "            elif cont[j][i] == 0:\n",
    "                continue\n",
    "    cnt = [0] * (max(rl)+1)\n",
    "    for r in rl:\n",
    "        for c in range(max(rl)+1):\n",
    "            if r == c:\n",
    "                cnt[c] += 1\n",
    "    rl = list(set(rl))\n",
    "    ans = list()\n",
    "    for r in rl:\n",
    "        if cnt[r] != 0:\n",
    "            ans.append([r, cnt[r]])\n",
    "    ans.sort(key = lambda x: x[0] * x[1])\n",
    "    print('#{} {} '.format(tc+1, len(ans)), end = '')\n",
    "    for i in range(len(ans)):\n",
    "        print('{} {}'.format(ans[i][0], ans[i][1]), end= ' ')"
   ]
  },
  {
   "cell_type": "markdown",
   "metadata": {},
   "source": [
    "# 1486"
   ]
  },
  {
   "cell_type": "code",
   "execution_count": null,
   "metadata": {},
   "outputs": [],
   "source": [
    "for tc in range(int(input())):\n",
    "    n, b = map(int, input().split())\n",
    "    h = list(map(int, input().split()))\n",
    "    diff = 10000\n",
    "    for i in range(1<<n):\n",
    "        sum = 0\n",
    "        for j in range(n):\n",
    "            if i&(1<<j):\n",
    "                sum += h[j]\n",
    "        if b <= sum and sum-b < diff:\n",
    "            diff = sum-b\n",
    "    print('#{} {}'.format(tc+1, diff))"
   ]
  },
  {
   "cell_type": "markdown",
   "metadata": {},
   "source": [
    "# 5432"
   ]
  },
  {
   "cell_type": "code",
   "execution_count": null,
   "metadata": {},
   "outputs": [],
   "source": [
    "for tc in range(int(input())):\n",
    "    iron = input()\n",
    "    cnt = 0\n",
    "    st = []\n",
    "    i = 0\n",
    "    while i < len(iron):\n",
    "        if iron[i] =='(' and iron[i+1] == ')' and st != []:\n",
    "            cnt += len(st)\n",
    "            i += 1\n",
    "        elif iron[i] =='(' and iron[i+1] != ')':\n",
    "            st.append(iron[i])\n",
    "            cnt += 1\n",
    "        elif iron[i] == ')' and st != []:\n",
    "            st.pop()\n",
    "        i += 1\n",
    "    print('#{} {}'.format(tc+1, cnt))"
   ]
  },
  {
   "cell_type": "markdown",
   "metadata": {},
   "source": [
    "# 7701"
   ]
  },
  {
   "cell_type": "code",
   "execution_count": null,
   "metadata": {},
   "outputs": [],
   "source": [
    "for tc in range(int(input())):\n",
    "    n = int(input())\n",
    "    names = set()\n",
    "    for i in range(n):\n",
    "        names.add(input())\n",
    "    names = list(names)\n",
    "    names.sort(key = lambda x: (len(x), x))\n",
    "    print('#{}'.format(tc+1))\n",
    "    for name in names:\n",
    "        print('{}'.format(name))"
   ]
  }
 ],
 "metadata": {
  "kernelspec": {
   "display_name": "Python 3",
   "language": "python",
   "name": "python3"
  },
  "language_info": {
   "codemirror_mode": {
    "name": "ipython",
    "version": 3
   },
   "file_extension": ".py",
   "mimetype": "text/x-python",
   "name": "python",
   "nbconvert_exporter": "python",
   "pygments_lexer": "ipython3",
   "version": "3.7.3"
  }
 },
 "nbformat": 4,
 "nbformat_minor": 4
}
