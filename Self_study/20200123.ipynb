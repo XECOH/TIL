{
 "cells": [
  {
   "cell_type": "markdown",
   "metadata": {},
   "source": [
    "# 2029"
   ]
  },
  {
   "cell_type": "code",
   "execution_count": 1,
   "metadata": {},
   "outputs": [
    {
     "name": "stdout",
     "output_type": "stream",
     "text": [
      "4\n",
      "9 15\n",
      "3 46\n",
      "7 11\n",
      "6 1\n",
      "#1 0 9\n",
      "#2 0 3\n",
      "#3 0 7\n",
      "#4 6 0\n"
     ]
    }
   ],
   "source": [
    "t = int(input())\n",
    "result1 = []\n",
    "result2 = []\n",
    "\n",
    "for i in range(t):\n",
    "    a, b = map(int, input().split(' '))\n",
    "    result1.append(int(a / b))\n",
    "    result2.append(a % b)\n",
    "\n",
    "j = 1\n",
    "while j < t:\n",
    "    for r1, r2 in zip(result1, result2):\n",
    "        print(f'#{j} {r1} {r2}')\n",
    "        j += 1\n",
    "        "
   ]
  },
  {
   "cell_type": "markdown",
   "metadata": {},
   "source": [
    "# 2072"
   ]
  },
  {
   "cell_type": "code",
   "execution_count": null,
   "metadata": {},
   "outputs": [],
   "source": [
    "t = int(input())\n",
    "r2 = []\n",
    "r3 = []\n",
    "s = 0\n",
    "for T in range(t):\n",
    "    a, b, c, d, e, f, g, h, i, j = map(int, input().split(' '))\n",
    "    r1 = [a, b, c, d, e, f, g, h, i, j]\n",
    "    for i in range((len(r1)-1)):\n",
    "        if r1[i] % 2:\n",
    "            s += r1[i]\n",
    "        r2.append(s)\n",
    "\n",
    "print(r2)"
   ]
  },
  {
   "cell_type": "markdown",
   "metadata": {},
   "source": [
    "# 2070"
   ]
  },
  {
   "cell_type": "code",
   "execution_count": null,
   "metadata": {},
   "outputs": [],
   "source": [
    "t = int(input())\n",
    "result = []\n",
    "\n",
    "\n",
    "while True:\n",
    "    for i in range(t):\n",
    "        a, b = map(int, input().split(' '))\n",
    "        if 0 <= a < 10000 and 0 <= b <= 10000:\n",
    "            if a == b:\n",
    "                size = '='\n",
    "                result.append(size)\n",
    "            elif a > b:\n",
    "                size = '>'\n",
    "                result.append(size)\n",
    "            else:\n",
    "                size = '<'\n",
    "                result.append(size)\n",
    "            break\n",
    "    else:\n",
    "        print('각 수 는 0이상 10000이하의 정수이어야 합니다.')\n",
    "\n",
    "for t in range(1, t+1):\n",
    "    print(f'#{t} {result[t-1]}')"
   ]
  },
  {
   "cell_type": "markdown",
   "metadata": {},
   "source": [
    "# 2058"
   ]
  },
  {
   "cell_type": "code",
   "execution_count": 16,
   "metadata": {},
   "outputs": [
    {
     "name": "stdout",
     "output_type": "stream",
     "text": [
      "10000\n",
      "1과 9999사이의 수를 입력해 주세요.\n",
      "4567\n",
      "22\n"
     ]
    }
   ],
   "source": [
    "b = []\n",
    "b_sum =0\n",
    "while True:\n",
    "    a = input()\n",
    "    if 1 <= int(a) <= 9999:\n",
    "        for i in range(len(a)):\n",
    "            b.append(a[i])\n",
    "        for j in range(len(b)):\n",
    "            b_sum += int(b[j])\n",
    "        print(b_sum)\n",
    "        break\n",
    "        \n",
    "    else:\n",
    "        print('1과 9999사이의 수를 입력해 주세요.')"
   ]
  },
  {
   "cell_type": "markdown",
   "metadata": {},
   "source": [
    "# 2050"
   ]
  },
  {
   "cell_type": "code",
   "execution_count": 22,
   "metadata": {},
   "outputs": [
    {
     "name": "stdout",
     "output_type": "stream",
     "text": [
      "sophie\n",
      "SOPHIE\n",
      "19 15 16 8 9 5 "
     ]
    }
   ],
   "source": [
    "while True:\n",
    "    sen = input().upper()\n",
    "    if len(sen) <= 200:\n",
    "        for alp, idx in enumerate(sen):\n",
    "            for i in idx:\n",
    "                print(ord(i)-64, end=' ')\n",
    "        break\n",
    "    else:\n",
    "        print('문자열의 최대 길이는 200입니다.')"
   ]
  },
  {
   "cell_type": "markdown",
   "metadata": {},
   "source": [
    "# 2043"
   ]
  },
  {
   "cell_type": "code",
   "execution_count": 29,
   "metadata": {},
   "outputs": [
    {
     "name": "stdout",
     "output_type": "stream",
     "text": [
      "000 456\n",
      "457\n"
     ]
    }
   ],
   "source": [
    "while True:\n",
    "    P, K = map(int, input().split(' '))\n",
    "    if 0 <= P <= 999:\n",
    "        if P >= K:\n",
    "            rnd = (P - K) + 1\n",
    "        else:\n",
    "            rnd = (K - P) + 1\n",
    "        print(rnd)\n",
    "        break\n",
    "    else:\n",
    "        print('비밀번호는 000부터 999까지 번호 중의 하나입니다.')\n",
    "        "
   ]
  },
  {
   "cell_type": "markdown",
   "metadata": {},
   "source": [
    "# 2056"
   ]
  },
  {
   "cell_type": "code",
   "execution_count": 15,
   "metadata": {},
   "outputs": [
    {
     "name": "stdout",
     "output_type": "stream",
     "text": [
      "5\n",
      "22220228\n",
      "20150002\n",
      "01010101\n",
      "20140230\n",
      "11111111\n",
      "#1 2222/02/28\n",
      "#2 -1\n",
      "#3 0101/01/01\n",
      "#4 -1\n",
      "#5 1111/11/11\n"
     ]
    }
   ],
   "source": [
    "t = int(input())\n",
    "result = []\n",
    "mon_31= [1, 3, 5, 7, 8, 10, 12]\n",
    "mon_30= [4, 6, 9, 11]\n",
    "\n",
    "for i in range(t):\n",
    "    YMD = input()\n",
    "    if int(YMD[4:6]) in mon_31 and 1 <= int(YMD[6:8]) <= 31:\n",
    "        result.append(YMD)\n",
    "    elif int(YMD[4:6]) in mon_30 and 1 <= int(YMD[6:8]) <= 30:\n",
    "        result.append(YMD)\n",
    "    elif int(YMD[4:6]) == 2 and 1 <= int(YMD[6:8]) <= 28:\n",
    "        result.append(YMD)\n",
    "    else:\n",
    "        result.append('-1')\n",
    "\n",
    "for j in range(1, t+1):\n",
    "    if int(result[j-1]) != -1:\n",
    "        print(f'#{j} {result[j-1][0:4]}/{result[j-1][4:6]}/{result[j-1][6:8]}')\n",
    "    else:\n",
    "        print(f'#{j} {result[j-1]}')"
   ]
  },
  {
   "cell_type": "markdown",
   "metadata": {},
   "source": [
    "# 2071"
   ]
  },
  {
   "cell_type": "code",
   "execution_count": 3,
   "metadata": {},
   "outputs": [
    {
     "name": "stdout",
     "output_type": "stream",
     "text": [
      "3\n",
      "3 17 1 39 8 41 2 32 99 2\n",
      "22 8 5 123 7 2 63 7 3 46\n",
      "6 63 2 3 58 76 21 33 8 1\n",
      "#1 24\n",
      "#2 29\n",
      "#3 27\n"
     ]
    }
   ],
   "source": [
    "t= int(input())\n",
    "result = []\n",
    "ev = 0\n",
    "\n",
    "for i in range(t):\n",
    "    a, b, c, d, e, f, g, h, i, j = map(int, input().split(' '))       \n",
    "    ev += round((a + b + c + d + e + f + g + h + i + j) / 10)\n",
    "    result.append(ev)\n",
    "    ev = 0\n",
    "    \n",
    "for i in range(1, t+1):\n",
    "    print(f'#{i} {result[i-1]}')"
   ]
  },
  {
   "cell_type": "markdown",
   "metadata": {},
   "source": [
    "# 2068"
   ]
  },
  {
   "cell_type": "code",
   "execution_count": 8,
   "metadata": {},
   "outputs": [
    {
     "name": "stdout",
     "output_type": "stream",
     "text": [
      "3\n",
      "3 17 1 39 8 41 2 32 99 2\n",
      "22 8 5 123 7 2 63 7 3 46\n",
      "6 63 2 3 58 76 21 33 8 1\n",
      "#1 99\n",
      "#2 123\n",
      "#3 76\n"
     ]
    }
   ],
   "source": [
    "t = int(input())\n",
    "r2 = []\n",
    "\n",
    "for i in range(t):\n",
    "    a, b, c, d, e, f, g, h, i, j = map(int, input().split(' '))\n",
    "    r1 = [a, b, c, d, e, f, g, h, i, j]\n",
    "    m = r1[0]\n",
    "    for i in range(1, len(r1)):\n",
    "        if r1[i] > m:\n",
    "            m = r1[i]\n",
    "        r2.append(m)\n",
    "\n",
    "for i in range(1, t+1):\n",
    "    print(f'#{i} {r2[(9*i)-1]}')"
   ]
  },
  {
   "cell_type": "markdown",
   "metadata": {},
   "source": [
    "# 2063"
   ]
  },
  {
   "cell_type": "code",
   "execution_count": 2,
   "metadata": {},
   "outputs": [
    {
     "name": "stdout",
     "output_type": "stream",
     "text": [
      "4\n",
      "9이상 199이하의 홀수인 정수를 입력해주세요.\n",
      "5\n",
      "9이상 199이하의 홀수인 정수를 입력해주세요.\n",
      "11\n",
      "1 8 7 5 6 45 99 753 46 10 22\n",
      "10\n"
     ]
    }
   ],
   "source": [
    "while True:\n",
    "    N = int(input())\n",
    "    if N % 2 and 9<= N <=199:        \n",
    "        scores = list(map(int, input().split(' ')))\n",
    "        scores.sort()\n",
    "        l = len(scores)\n",
    "        print(f'{scores[int(l / 2)]}')\n",
    "        break\n",
    "    else:\n",
    "        print('9이상 199이하의 홀수인 정수를 입력해주세요.')"
   ]
  },
  {
   "cell_type": "code",
   "execution_count": null,
   "metadata": {},
   "outputs": [],
   "source": []
  }
 ],
 "metadata": {
  "kernelspec": {
   "display_name": "Python 3",
   "language": "python",
   "name": "python3"
  },
  "language_info": {
   "codemirror_mode": {
    "name": "ipython",
    "version": 3
   },
   "file_extension": ".py",
   "mimetype": "text/x-python",
   "name": "python",
   "nbconvert_exporter": "python",
   "pygments_lexer": "ipython3",
   "version": "3.7.3"
  }
 },
 "nbformat": 4,
 "nbformat_minor": 4
}
