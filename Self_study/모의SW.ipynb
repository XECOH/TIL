{
 "cells": [
  {
   "cell_type": "markdown",
   "metadata": {},
   "source": [
    "# 5658"
   ]
  },
  {
   "cell_type": "code",
   "execution_count": null,
   "metadata": {},
   "outputs": [],
   "source": [
    "for tc in range(int(input())):\n",
    "    n, k = map(int, input().split())\n",
    "    six = input()\n",
    "    ans = []\n",
    "    for i in range(n//4):\n",
    "        for j in range(0, n, n//4):\n",
    "            if six[j+(n*i):j+(n*i)+(n//4)] not in ans:\n",
    "                ans.append(six[j+(n*i):j+(n*i)+(n//4)])\n",
    "        six += six[i+1:n] + six[0:i+1]\n",
    "    result = [int(i, 16) for i in ans]\n",
    "    result.sort(reverse = True)\n",
    "    print('#{} {}'.format(tc+1, result[k-1]))"
   ]
  }
 ],
 "metadata": {
  "kernelspec": {
   "display_name": "Python 3",
   "language": "python",
   "name": "python3"
  },
  "language_info": {
   "codemirror_mode": {
    "name": "ipython",
    "version": 3
   },
   "file_extension": ".py",
   "mimetype": "text/x-python",
   "name": "python",
   "nbconvert_exporter": "python",
   "pygments_lexer": "ipython3",
   "version": "3.7.3"
  }
 },
 "nbformat": 4,
 "nbformat_minor": 4
}
