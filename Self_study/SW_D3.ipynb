{
 "cells": [
  {
   "cell_type": "markdown",
   "metadata": {},
   "source": [
    "# 5601"
   ]
  },
  {
   "cell_type": "code",
   "execution_count": null,
   "metadata": {},
   "outputs": [],
   "source": [
    "T = int(input())\n",
    "for tc in range(1, T+1):\n",
    "    N = int(input())\n",
    "    print('#{} '.format(tc), end= '')\n",
    "    for i in range(N):\n",
    "        print('{}'.format('1'+'/'+str(N)), end = ' ')\n",
    "    print()"
   ]
  },
  {
   "cell_type": "markdown",
   "metadata": {},
   "source": [
    "# 1206 "
   ]
  },
  {
   "cell_type": "code",
   "execution_count": null,
   "metadata": {},
   "outputs": [],
   "source": [
    "for i in range(1, 11):\n",
    "    w = int(input())\n",
    "    count = 0\n",
    "    b_h = list(map(int, input().split())) # 빌딩 높이 입력 받기\n",
    "    for j in range(len(b_h)):\n",
    "        if b_h[j] <= 255: # 제약사항 확인 1. 빌딩 높이\n",
    "            continue\n",
    "    if w <= 1000 and len(b_h) == w and b_h[0] == 0 and b_h[1] == 0 and b_h[(len(b_h)-2)] == 0 and b_h[len(b_h)-1]== 0:  # 제약사항 확인 2. 가로의 길이 3. 빌딩 높이 개수와 가로 길이 일치 4. 맨 왼쪽 및 맨 오른쪽 두칸에는 건물이 지어지지 않음\n",
    "        for j in range(2, len(b_h)-2): # 건물이 지어지지 않는 맨 왼쪽 두칸과 맨 오른쪽 두칸\n",
    "            left = max(b_h[j-2:j])\n",
    "            if b_h[j] < left: # 왼쪽 조망권 확인\n",
    "                continue\n",
    "            right = max(b_h[j+1:j+3]) # 오른쪽 조망권 확인\n",
    "            if b_h[j] < right:\n",
    "                continue\n",
    "            around_h = max(left, right) # 주변 확인\n",
    "            count += (b_h[j] - around_h) # 왼쪽, 오른쪽 건물 중 확인하려는 건물의 조망권 침해 층수 제거\n",
    "    print(f'#{i} {count}')"
   ]
  },
  {
   "cell_type": "markdown",
   "metadata": {},
   "source": [
    "# 1208"
   ]
  },
  {
   "cell_type": "code",
   "execution_count": null,
   "metadata": {},
   "outputs": [],
   "source": [
    "for i in range(1, 11):\n",
    "    t = int(input())\n",
    "    b_h = list(map(int, input().split()))\n",
    "    for j in range(len(b_h)):\n",
    "    if 1 <= b_h[j] <= 100 and len(b_h) == 100:\n",
    "            continue\n",
    "\n",
    "    while t > 0:\n",
    "        max_h = 1\n",
    "        min_h = 100\n",
    "        max_l = 0\n",
    "        min_l = 0\n",
    "        for j in range(len(b_h)):\n",
    "            if max_h < b_h[j]:\n",
    "                max_h = b_h[j]\n",
    "                max_l = j\n",
    "            if min_h > b_h[j]:\n",
    "                min_h = b_h[j]\n",
    "                min_l = j\n",
    "        b_h[max_l] -= 1\n",
    "        b_h[min_l] += 1\n",
    "        t -= 1\n",
    "\n",
    "    max_h = 1\n",
    "    min_h = 100\n",
    "    for j in range(len(b_h)):\n",
    "        if max_h < b_h[j]:\n",
    "            max_h = b_h[j]\n",
    "        if min_h > b_h[j]:\n",
    "            min_h = b_h[j]\n",
    "    diff_h = max_h - min_h\n",
    "    print(f'#{i} {diff_h}')"
   ]
  },
  {
   "cell_type": "markdown",
   "metadata": {},
   "source": [
    "# 1209"
   ]
  },
  {
   "cell_type": "code",
   "execution_count": null,
   "metadata": {},
   "outputs": [],
   "source": [
    "T = 10\n",
    "for tc in range(1, T+1):\n",
    "    N = int(input())\n",
    "    matrix = []\n",
    "    for i in range(100):\n",
    "        matrix.append(list(map(int, input().split())))\n",
    "    sum = 0\n",
    "    sum_l = []\n",
    "    for i in range(len(matrix)): # 가로 합\n",
    "        for j in range(len(matrix)):\n",
    "            sum += matrix[i][j]\n",
    "        sum_l.append(sum)\n",
    "        sum = 0\n",
    "    sum = 0\n",
    "    for i in range(len(matrix)):\n",
    "        for j in range(len(matrix)):\n",
    "            sum += matrix[j][i]\n",
    "        sum_l.append(sum)\n",
    "        sum = 0\n",
    "    sum = 0\n",
    "    for i in range(len(matrix)):\n",
    "        for j in range(len(matrix)):\n",
    "            if i == j:\n",
    "                sum += matrix[i][j]\n",
    "        sum_l.append(sum)\n",
    "        sum = 0\n",
    "    sum = 0\n",
    "    for i in range(len(matrix)-1, -1, -1):\n",
    "        sum += matrix[i][i]\n",
    "        \n",
    "    print(f'#{tc} {max(sum_l)}')"
   ]
  },
  {
   "cell_type": "markdown",
   "metadata": {},
   "source": [
    "# 1213"
   ]
  },
  {
   "cell_type": "code",
   "execution_count": null,
   "metadata": {},
   "outputs": [],
   "source": [
    "T = 10\n",
    "for tc in range(1, T+1):\n",
    "    N = int(input())\n",
    "    searching = input()\n",
    "    sentences = input()\n",
    "    cnt = 0\n",
    "    for i in range(len(sentences)-len(searching)+1):\n",
    "        if sentences[i:i+len(searching)] == searching:\n",
    "            cnt += 1\n",
    "    print('#{} {}'.format(tc, cnt))"
   ]
  },
  {
   "cell_type": "markdown",
   "metadata": {},
   "source": [
    "# 1215"
   ]
  },
  {
   "cell_type": "code",
   "execution_count": null,
   "metadata": {},
   "outputs": [],
   "source": [
    "def is_palindrome(list):\n",
    "    for i in range(1, int(len(list)/2)+1):\n",
    "        if list[i-1] == list[-i]:\n",
    "            continue\n",
    "        else:\n",
    "            return False\n",
    "            break\n",
    "    return True\n",
    "\n",
    "T = 10\n",
    "for tc in range(1, T+1):\n",
    "    l = int(input())\n",
    "    board = [list(map(str, input())) for _ in range(8)]\n",
    "    cnt = 0\n",
    "    for i in range(8):\n",
    "        for j in range(8-l+1):\n",
    "            tempr = []\n",
    "            for k in range(l):\n",
    "                tempr.append(board[i][j+k])\n",
    "            if is_palindrome(tempr):\n",
    "                cnt += 1\n",
    "            tempc = []\n",
    "            for k in range(l):\n",
    "                tempc.append(board[j+k][i])\n",
    "            if is_palindrome(tempc):\n",
    "                cnt += 1\n",
    "    print('#{} {}'.format(tc, cnt))"
   ]
  },
  {
   "cell_type": "markdown",
   "metadata": {},
   "source": [
    "# 1216"
   ]
  },
  {
   "cell_type": "code",
   "execution_count": null,
   "metadata": {},
   "outputs": [],
   "source": [
    "T = 10\n",
    "for tc in range(1, T+1):\n",
    "    N = int(input())\n",
    "    words = [list(map(str, input())) for _ in range(100)]\n",
    "    cntr = 0\n",
    "    result = []\n",
    "    for i in range(100):\n",
    "        for j in range(100):\n",
    "            temp = ''\n",
    "            for k in range(100):\n",
    "                if j + k <= 99:\n",
    "                    temp += words[i][j+k]\n",
    "                    if temp == temp[::-1]:\n",
    "                        if len(temp) > cntr:\n",
    "                            cntr = len(temp)\n",
    "                    else:\n",
    "                        continue\n",
    "    cnth = 0\n",
    "    for i in range(100):\n",
    "        for j in range(100):\n",
    "            temp = ''\n",
    "            for k in range(100):\n",
    "                if j + k <= 99:\n",
    "                    temp += words[j+k][i]\n",
    "                    if temp == temp[::-1]:\n",
    "                        if len(temp) > cnth:\n",
    "                            cnth = len(temp)\n",
    "                    else:\n",
    "                        continue\n",
    "    if cntr > cnth:\n",
    "        print('#{} {}'.format(tc, cntr))\n",
    "    else:\n",
    "        print('#{} {}'.format(tc, cnth))"
   ]
  },
  {
   "cell_type": "markdown",
   "metadata": {},
   "source": [
    "# 1217"
   ]
  },
  {
   "cell_type": "code",
   "execution_count": null,
   "metadata": {},
   "outputs": [],
   "source": [
    "def power(i, j, k):\n",
    "    if j < 2:\n",
    "        return k*i\n",
    "    return power(i, j-1, k*i)\n",
    "    \n",
    "T = 10\n",
    "for tc in range(1, T + 1):\n",
    "    N = int(input())\n",
    "    n, m = map(int, input().split())\n",
    "    print('#{} {}'.format(tc, power(n, m, 1)))"
   ]
  },
  {
   "cell_type": "markdown",
   "metadata": {},
   "source": [
    "# 1220"
   ]
  },
  {
   "cell_type": "code",
   "execution_count": null,
   "metadata": {},
   "outputs": [],
   "source": [
    "T = 10\n",
    "for tc in range(1, T+1):\n",
    "    N = int(input())\n",
    "    table = [list(map(int, input().split())) for _ in range(100)]\n",
    "    cnt = 0\n",
    "    for i in range(100):\n",
    "        temp = []\n",
    "        for j in range(100):\n",
    "            if table[j][i] == 1 or table[j][i] == 2:\n",
    "                temp.append(table[j][i])\n",
    "        while temp:\n",
    "            a = temp.pop()\n",
    "            if len(temp) >= 1:\n",
    "                b = temp[-1]\n",
    "                if a == 2 and b == 1:\n",
    "                    cnt +=1\n",
    "                else:\n",
    "                    continue\n",
    "            else:\n",
    "                break\n",
    "\n",
    "    print('#{} {}'.format(tc, cnt))"
   ]
  },
  {
   "cell_type": "markdown",
   "metadata": {},
   "source": [
    "# 1221"
   ]
  },
  {
   "cell_type": "code",
   "execution_count": null,
   "metadata": {},
   "outputs": [],
   "source": [
    "T = int(input())\n",
    "for tc in range(1, T+1):\n",
    "    TC, l = map(str, input().split())\n",
    "    strings = list(map(str, input().split()))\n",
    "    num = [0, 1, 2, 3, 4, 5, 6, 7, 8, 9]\n",
    "    alien = ['ZRO', 'ONE', 'TWO', 'THR', 'FOR', 'FIV', 'SIX', 'SVN', 'EGT', 'NIN']\n",
    "    for i in range(int(l)):\n",
    "        for j in range(len(alien)):\n",
    "            if strings[i] == alien[j]:\n",
    "                strings[i] = num[j]\n",
    "    strings.sort()\n",
    "    print('#{}'.format(tc))\n",
    "    for i in range(int(l)):\n",
    "        for j in range(len(alien)):\n",
    "            if strings[i] == num[j]:\n",
    "                strings[i] = alien[j]\n",
    "    for i in range(int(l)):\n",
    "        print('{}'.format(strings[i]), end= ' ')"
   ]
  },
  {
   "cell_type": "markdown",
   "metadata": {},
   "source": [
    "# 1225"
   ]
  },
  {
   "cell_type": "code",
   "execution_count": null,
   "metadata": {},
   "outputs": [],
   "source": [
    "T = 10\n",
    "for tc in range(1, T+1):\n",
    "    n = int(input())\n",
    "    codes = list(map(int, input().split()))\n",
    "    a = 1\n",
    "    while a !=0:\n",
    "        for i in range(1, 6):\n",
    "            a = codes[0] - i\n",
    "            if a <= 0:\n",
    "                a = 0\n",
    "                codes[0] = a\n",
    "            else:\n",
    "                codes[0] = a\n",
    "                codes.append(a)\n",
    "                codes.remove(a)\n",
    "    codes.remove(0)\n",
    "    codes.append(0)\n",
    "    print('#{} '.format(tc), end= '')\n",
    "    for i in range(8):\n",
    "        print('{}'.format(codes[i]), end=' ')\n",
    "    print()\n"
   ]
  },
  {
   "cell_type": "markdown",
   "metadata": {},
   "source": [
    "# 1228"
   ]
  },
  {
   "cell_type": "code",
   "execution_count": null,
   "metadata": {},
   "outputs": [],
   "source": [
    "T = 10\n",
    "for tc in range(1, T+1):\n",
    "    f1 = int(input())\n",
    "    s = list(map(int, input().split()))\n",
    "    t = int(input())\n",
    "    f4 = list(map(str, input().split()))\n",
    "    for i in range(len(f4)):\n",
    "        if f4[i] == 'I':\n",
    "            for j in range(int(f4[i+2])):\n",
    "                s.insert(int(f4[i+1])+j, int(f4[i+3+j]))\n",
    "        else:\n",
    "            continue\n",
    "    print('#{} '.format(tc), end= '')\n",
    "    for i in range(10):\n",
    "        print('{}'.format(s[i]), end= ' ')\n",
    "    print()"
   ]
  },
  {
   "cell_type": "markdown",
   "metadata": {},
   "source": [
    "# 1229"
   ]
  },
  {
   "cell_type": "code",
   "execution_count": null,
   "metadata": {},
   "outputs": [],
   "source": [
    "T = 10\n",
    "for tc in range(1, T+1):\n",
    "    f1 = int(input())\n",
    "    s = list(map(int, input().split()))\n",
    "    t = int(input())\n",
    "    f4 = list(map(str, input().split()))\n",
    "    for i in range(len(f4)):\n",
    "        if f4[i] == 'I':\n",
    "            for j in range(int(f4[i+2])):\n",
    "                s.insert(int(f4[i+1])+j, int(f4[i+3+j]))\n",
    "        elif f4[i] == 'D':\n",
    "            for j in range(int(f4[i+2])):\n",
    "                s.pop(int(f4[i+1]))\n",
    "        else:\n",
    "            continue\n",
    "    print('#{} '.format(tc), end= '')\n",
    "    for i in range(10):\n",
    "        print('{}'.format(s[i]), end= ' ')\n",
    "    print()"
   ]
  },
  {
   "cell_type": "markdown",
   "metadata": {},
   "source": [
    "# 1230"
   ]
  },
  {
   "cell_type": "code",
   "execution_count": null,
   "metadata": {},
   "outputs": [],
   "source": [
    "T = 10\n",
    "for tc in range(1, T+1):\n",
    "    f1 = int(input())\n",
    "    s = list(map(int, input().split()))\n",
    "    t = int(input())\n",
    "    f4 = list(map(str, input().split()))\n",
    "    for i in range(len(f4)):\n",
    "        if f4[i] == 'I':\n",
    "            for j in range(int(f4[i+2])):\n",
    "                s.insert(int(f4[i+1])+j, int(f4[i+3+j]))\n",
    "        elif f4[i] == 'D':\n",
    "            for j in range(int(f4[i+2])):\n",
    "                s.pop(int(f4[i+1]))\n",
    "        elif f4[i] == 'A':\n",
    "            for j in range(int(f4[i+1])):\n",
    "                s.append(int(f4[i+2])+j)\n",
    "        else:\n",
    "            continue\n",
    "    print('#{} '.format(tc), end= '')\n",
    "    for i in range(10):\n",
    "        print('{}'.format(s[i]), end= ' ')\n",
    "    print()"
   ]
  },
  {
   "cell_type": "markdown",
   "metadata": {},
   "source": [
    "# 1234"
   ]
  },
  {
   "cell_type": "code",
   "execution_count": null,
   "metadata": {},
   "outputs": [],
   "source": [
    "T = 10\n",
    "for tc in range(1, T+1):\n",
    "    l, s = input().split()\n",
    "    s = list(map(int, s))\n",
    "    st = list()\n",
    "    for i in range(int(l)):\n",
    "        if not st or st[-1] != s[i]:\n",
    "            st.append(s[i])\n",
    "        elif st and st[-1] == s[i]:\n",
    "            st.pop()\n",
    "    print('#{} {}'.format(tc, ''.join(map(str, st))))"
   ]
  },
  {
   "cell_type": "markdown",
   "metadata": {},
   "source": [
    "# 1240"
   ]
  },
  {
   "cell_type": "code",
   "execution_count": null,
   "metadata": {},
   "outputs": [],
   "source": [
    "T = int(input())\n",
    "num = ['0001101', '0011001', '0010011', '0111101', '0100011', '0110001', '0101111', '0111011', '0110111', '0001011']\n",
    "for tc in range(1, T+1):\n",
    "    n, m = map(int, input().split())\n",
    "    code = [list(map(int, input())) for _ in range(n)]\n",
    "    ncode = []\n",
    "    nncode = []\n",
    "    sri = 0\n",
    "    for i in range(n):\n",
    "        if 1 in code[i]:\n",
    "            sri = i\n",
    "            break\n",
    "    sci = 0\n",
    "    for i in range(m-1, -1, -1):\n",
    "        if code[sri][i] == 1:\n",
    "            sci = i\n",
    "            break\n",
    "    ncode = code[sri][sci-55:sci+1]\n",
    "    for i in range(8):\n",
    "        for j in range(10):\n",
    "            if ''.join(map(str, ncode[7*i:7*(i+1)])) == num[j]:\n",
    "                nncode.append(j)\n",
    "\n",
    "    check = 0\n",
    "    if (((nncode[0]+nncode[2]+nncode[4]+nncode[6])*3 + nncode[1]+ nncode[3] + nncode[5]) % 10 + nncode[7]) % 10 == 0:\n",
    "        for i in nncode:\n",
    "            check += i\n",
    "    else:\n",
    "        check = 0\n",
    "\n",
    "    print('#{} {}'.format(tc, check))"
   ]
  },
  {
   "cell_type": "markdown",
   "metadata": {},
   "source": [
    "# 1493"
   ]
  },
  {
   "cell_type": "code",
   "execution_count": null,
   "metadata": {},
   "outputs": [],
   "source": [
    "T = int(input())\n",
    "for tc in range(1, T+1):\n",
    "    p, q = map(int, input().split())\n",
    "    list = [[0 for _ in range(300)] for _ in range(300)]\n",
    "    for i in range(2, 301):\n",
    "        list[1][i-1] = int(((i-1)**2+(i-1))/2)\n",
    "    for i in range(2, 300):\n",
    "        list[i][1] = list[1][1] + int(((i-1)**2-(i-1))/2) + i-1\n",
    "    for i in range(2,298):\n",
    "        for j in range(2, 299):\n",
    "            list[j][i] = list[j+1][i-1] + 1\n",
    "\n",
    "    pir = 0\n",
    "    pic = 0\n",
    "    qir = 0\n",
    "    qic = 0\n",
    "\n",
    "    for i in range(1, 200):\n",
    "        for j in range(1, 200):\n",
    "            while list[i][j] == p:\n",
    "                pic = j\n",
    "                pir = i\n",
    "                break\n",
    "            while list[i][j] == q:\n",
    "                qic = j\n",
    "                qir = i\n",
    "                break\n",
    "        if pir != 0 and pic != 0 and qir != 0 and qic != 0:\n",
    "            break\n",
    "\n",
    "    resultr = (pir + qir)\n",
    "    resultc = (pic + qic)\n",
    "\n",
    "    print('#{} {}'.format(tc, list[resultr][resultc]))"
   ]
  },
  {
   "cell_type": "markdown",
   "metadata": {},
   "source": [
    "# 2805"
   ]
  },
  {
   "cell_type": "code",
   "execution_count": null,
   "metadata": {},
   "outputs": [],
   "source": [
    "T = int(input())\n",
    "for tc in range(1, T+1):\n",
    "    N = int(input())\n",
    "    farm = [list(map(int, input())) for _ in range(N)]\n",
    "    h = N // 2\n",
    "    yields = 0\n",
    "    for i in range(N):\n",
    "        yields += farm[i][h]\n",
    "        if 0 < i <= h:\n",
    "            for j in range(1, i+1):\n",
    "                yields += farm[i][h+j]\n",
    "                yields += farm[i][h-j]\n",
    "        elif h < i < N-1:\n",
    "            for j in range(1, 2*h-i+1):\n",
    "                yields += farm[i][h+j]\n",
    "                yields += farm[i][h-j]\n",
    "    print('#{} {}'.format(tc, yields))"
   ]
  },
  {
   "cell_type": "markdown",
   "metadata": {},
   "source": [
    "# 2948"
   ]
  },
  {
   "cell_type": "code",
   "execution_count": null,
   "metadata": {},
   "outputs": [],
   "source": [
    "T = int(input())\n",
    "for tc in range(1, T+1):\n",
    "    n, m = map(int, input().split())\n",
    "    nl = list(map(str, input().split()))\n",
    "    ml = list(map(str, input().split()))\n",
    "    tl = list(set(nl+ml))\n",
    "    result = n+m - len(tl)\n",
    "    print('#{} {}'.format(tc, result))"
   ]
  },
  {
   "cell_type": "markdown",
   "metadata": {},
   "source": [
    "# 3131"
   ]
  },
  {
   "cell_type": "code",
   "execution_count": null,
   "metadata": {},
   "outputs": [],
   "source": [
    "n=10**6\n",
    "a = [False,False] + [True]*(n-1)\n",
    "primes=[]\n",
    "\n",
    "for i in range(2,n+1):\n",
    "    if a[i]:\n",
    "    \tprimes.append(i)\n",
    "    \tfor j in range(2*i, n+1, i):\n",
    "        \ta[j] = False\n",
    "for i in range(len(primes)):\n",
    "    print(primes[i], end=' ')"
   ]
  },
  {
   "cell_type": "markdown",
   "metadata": {},
   "source": [
    "# 3142"
   ]
  },
  {
   "cell_type": "code",
   "execution_count": null,
   "metadata": {},
   "outputs": [],
   "source": [
    "T = int(input())\n",
    "for tc in range(1, T+1):\n",
    "    n, m = map(int, input().split())\n",
    "    for x in range(m+1):\n",
    "        for y in range(m+1):\n",
    "            if 2*x + y == n and x + y == m:\n",
    "                twinhorn = x\n",
    "                unicorn = y\n",
    "    print('#{} {} {}'.format(tc, unicorn, twinhorn))"
   ]
  },
  {
   "cell_type": "markdown",
   "metadata": {},
   "source": [
    "# 3260"
   ]
  },
  {
   "cell_type": "code",
   "execution_count": null,
   "metadata": {},
   "outputs": [],
   "source": [
    "T = int(input())\n",
    "for tc in range(1, T+1):\n",
    "    A, B = map(int, input().split())\n",
    "    result = A + B\n",
    "    print('#{} {}'.format(tc, result))"
   ]
  },
  {
   "cell_type": "markdown",
   "metadata": {},
   "source": [
    "# 3314"
   ]
  },
  {
   "cell_type": "code",
   "execution_count": null,
   "metadata": {},
   "outputs": [],
   "source": [
    "T = int(input())\n",
    "for tc in range(1, T+1):\n",
    "    scores = list(map(int, input().split()))\n",
    "    for i in range(5):\n",
    "        if scores[i] < 40:\n",
    "            scores[i] = 40\n",
    "    sum = 0\n",
    "    for score in scores:\n",
    "        sum += score\n",
    "    print('#{} {}'.format(tc, int(sum/5)))"
   ]
  },
  {
   "cell_type": "markdown",
   "metadata": {},
   "source": [
    "# 3431"
   ]
  },
  {
   "cell_type": "code",
   "execution_count": null,
   "metadata": {},
   "outputs": [],
   "source": [
    "T = int(input())\n",
    "for tc in range(1, T+1):\n",
    "    L, U, X = map(int, input().split())\n",
    "    if X < L:\n",
    "        result = L - X\n",
    "    elif L <= X <= U:\n",
    "        result = 0\n",
    "    elif X > U :\n",
    "        result = -1\n",
    "    print('#{} {}'.format(tc, result))"
   ]
  },
  {
   "cell_type": "markdown",
   "metadata": {},
   "source": [
    "# 3456"
   ]
  },
  {
   "cell_type": "code",
   "execution_count": null,
   "metadata": {},
   "outputs": [],
   "source": [
    "T = int(input())\n",
    "for tc in range(1, T+1):\n",
    "    a, b, c = map(int, input().split())\n",
    "    d = 0\n",
    "    if a == b and b == c:\n",
    "        d = a\n",
    "    else:\n",
    "        if a == b:\n",
    "            d = c\n",
    "        elif a == c:\n",
    "            d = b\n",
    "        elif b == c:\n",
    "            d = a\n",
    "    print('#{} {}'.format(tc, d))"
   ]
  },
  {
   "cell_type": "markdown",
   "metadata": {},
   "source": [
    "# 3499"
   ]
  },
  {
   "cell_type": "code",
   "execution_count": null,
   "metadata": {},
   "outputs": [],
   "source": [
    "T = int(input())\n",
    "for tc in range(1, T+1):\n",
    "    n = int(input())\n",
    "    given = list(map(str, input().split()))\n",
    "    half = int(n / 2)\n",
    "    ans = []\n",
    "    if n % 2 == 0:\n",
    "        given1 = list(given[0: half])\n",
    "        given2 = list(given[half:])\n",
    "    else:\n",
    "        given1 = list(given[0: half])\n",
    "        given2 = list(given[half+1: ])\n",
    "    for i in range(half):\n",
    "        ans.append(given1[i])\n",
    "        ans.append(given2[i])\n",
    "    if n % 2:\n",
    "        ans.append(given[half])\n",
    "    print('#{} '.format(tc), end='')\n",
    "    for i in range(n):\n",
    "        print('{}'.format(ans[i]), end= ' ')\n",
    "    print()"
   ]
  },
  {
   "cell_type": "markdown",
   "metadata": {},
   "source": [
    "# 4047"
   ]
  },
  {
   "cell_type": "code",
   "execution_count": null,
   "metadata": {},
   "outputs": [],
   "source": [
    "T = int(input())\n",
    "for tc in range(1, T+1):\n",
    "    d = input()\n",
    "    c = ['S', 'D', 'H', 'C']\n",
    "    counting = [0, 0, 0, 0]\n",
    "    a = []\n",
    "    result= ''\n",
    "    for i in range(1, int(len(d)/3)+1):\n",
    "        a.append(d[3*(i-1):3*i])\n",
    "    for i in range(len(a)):\n",
    "        if a.count(a[i]) > 1:\n",
    "            result += 'ERROR'\n",
    "            break\n",
    "    if 'ERROR' not in result:\n",
    "        for i in range(len(counting)):\n",
    "            for j in range(len(a)):\n",
    "                if a[j][0] == c[i]:\n",
    "                    counting[i] += 1\n",
    "    cnt = 0\n",
    "    re = []\n",
    "    for i in range(len(counting)):\n",
    "        if 'ERROR' not in result:\n",
    "            cnt = 13 - counting[i]\n",
    "            re.append(cnt)\n",
    "            cnt = 0\n",
    "    print('#{} '.format(tc), end = '')\n",
    "    if result != 'ERROR':\n",
    "        for i in range(len(re)):\n",
    "            print('{} '.format(re[i]), end= '')\n",
    "        print()\n",
    "    else:\n",
    "        print('ERROR')"
   ]
  },
  {
   "cell_type": "markdown",
   "metadata": {},
   "source": [
    "# 4299"
   ]
  },
  {
   "cell_type": "code",
   "execution_count": null,
   "metadata": {},
   "outputs": [],
   "source": [
    "T = int(input())\n",
    "for tc in range(1, T+1):\n",
    "    D, H, M = map(int, input().split())\n",
    "    if D == 11 and H <= 11 and M < 11:\n",
    "        result = -1\n",
    "    elif D == 11 and H < 11:\n",
    "        result = -1\n",
    "    elif H >= 11 and M >= 11:\n",
    "        result = (D - 11) * 1440 + (H - 11) * 60 + M - 11\n",
    "    elif D > 11 and H < 11 and M >= 11:\n",
    "        result = (D - 12) * 1440 + (24 - 11 + H) * 60 + M - 11\n",
    "    elif H >= 11 and M < 11:\n",
    "        result = (D - 11) * 1440 + (H - 12) * 60 + 60 - (11 - M)\n",
    "    elif H < 11 and M < 11:\n",
    "        result = (D - 12) * 1440 + (24 - 12 + H) * 60 + 60 - (11 - M)\n",
    "    print('#{} {}'.format(tc, result))"
   ]
  },
  {
   "cell_type": "markdown",
   "metadata": {},
   "source": [
    "# 4406"
   ]
  },
  {
   "cell_type": "code",
   "execution_count": null,
   "metadata": {},
   "outputs": [],
   "source": [
    "T = int(input())\n",
    "for tc in range(1, T+1):\n",
    "    vowels = 'aeiou'\n",
    "    words = input()\n",
    "    result = ''\n",
    "    for word in words:\n",
    "        if word not in vowels:\n",
    "            result += word\n",
    "    print('#{} {}'.format(tc, result))"
   ]
  },
  {
   "cell_type": "markdown",
   "metadata": {},
   "source": [
    "# 4466"
   ]
  },
  {
   "cell_type": "code",
   "execution_count": null,
   "metadata": {},
   "outputs": [],
   "source": [
    "T = int(input())\n",
    "for tc in range(1, T+1):\n",
    "    N, K = map(int, input().split())\n",
    "    scores = list(map(int, input().split()))\n",
    "    scores.sort(reverse=True)\n",
    "    sum = 0\n",
    "    for i in range(K):\n",
    "        sum += scores[i]\n",
    "    print('#{} {}'.format(tc, sum))    "
   ]
  },
  {
   "cell_type": "markdown",
   "metadata": {},
   "source": [
    "# 4698"
   ]
  },
  {
   "cell_type": "code",
   "execution_count": null,
   "metadata": {},
   "outputs": [],
   "source": [
    "n = 10**6\n",
    "\n",
    "c = [False, False] + [True] * (n - 1)\n",
    "primelist = []\n",
    "\n",
    "for i in range(2, n + 1):\n",
    "    if c[i]:\n",
    "        primelist.append(i)\n",
    "        for j in range(2 * i, n + 1, i):\n",
    "            c[j] = False\n",
    "\n",
    "T = int(input())\n",
    "for tc in range(1, T+1):\n",
    "    d, a, b = map(int, input().split())\n",
    "    cnt = 0\n",
    "    for i in primelist:\n",
    "        if a <= i <= b and str(d) in str(i):\n",
    "            cnt += 1\n",
    "    print('#{} {}'.format(tc, cnt))"
   ]
  },
  {
   "cell_type": "markdown",
   "metadata": {},
   "source": [
    "# 4751"
   ]
  },
  {
   "cell_type": "code",
   "execution_count": null,
   "metadata": {},
   "outputs": [],
   "source": [
    "T = int(input())\n",
    "for tc in range(1, T+1):\n",
    "    words =list(map(str, input()))\n",
    "    for i in range(len(words)):\n",
    "        words[i] = '.' + words[i] + '.'\n",
    "    print1 = '.#'\n",
    "    print2 = '#'\n",
    "    print3 = '#'\n",
    "    print1 = print1 * len(words)\n",
    "    print2 = print2 * 2 * len(words)\n",
    "    print3 = print3 * (len(words) + 1)\n",
    "    print1 = '.'.join(print1) + '..'\n",
    "    print2 = '.' + '.'.join(print2) + '.'\n",
    "    l3 = list(print3)\n",
    "    n = len(l3)\n",
    "    m = len(words)\n",
    "    while m > 0:\n",
    "        for i in range(len(words)):\n",
    "            l3.insert(2*i+1, words[i])\n",
    "            m -= 1\n",
    "    print4 = ''\n",
    "    for i in range(len(l3)):\n",
    "        print4 += l3[i]\n",
    "    print(print1)\n",
    "    print(print2)\n",
    "    print(print4)\n",
    "    print(print2)\n",
    "    print(print1)"
   ]
  },
  {
   "cell_type": "markdown",
   "metadata": {},
   "source": [
    "# 5162"
   ]
  },
  {
   "cell_type": "code",
   "execution_count": null,
   "metadata": {},
   "outputs": [],
   "source": [
    "T = int(input())\n",
    "for tc in range(1, T+1):\n",
    "    A, B, C = map(int, input().split())\n",
    "    total = 0\n",
    "    if A <= B:\n",
    "        total += C // A\n",
    "        if (C % A) >= B:\n",
    "            total += (C % A) // B\n",
    "    else:\n",
    "        total += C // B\n",
    "        if (C % B) >= A:\n",
    "            total += (C % B) // A\n",
    "    print('#{} {}'.format(tc, total))"
   ]
  },
  {
   "cell_type": "markdown",
   "metadata": {},
   "source": [
    "# 5356"
   ]
  },
  {
   "cell_type": "code",
   "execution_count": null,
   "metadata": {},
   "outputs": [],
   "source": [
    "T = int(input())\n",
    "for tc in range(1, T+1):\n",
    "    sero = [list(input()) for _ in range(5)]\n",
    "    max_len = 0\n",
    "    read = ''\n",
    "    for i in range(5):\n",
    "        if len(sero[i]) > max_len:\n",
    "            max_len = len(sero[i])\n",
    "    for i in range(5):\n",
    "        if len(sero[i]) < max_len:\n",
    "            for j in range(max_len-len(sero[i])):\n",
    "                sero[i].append('')\n",
    "    for i in range(max_len):\n",
    "        for j in range(5):\n",
    "            read += sero[j][i]\n",
    "    read = read.strip()\n",
    "    print('#{} {}'.format(tc, read))"
   ]
  },
  {
   "cell_type": "markdown",
   "metadata": {},
   "source": [
    "# 5431"
   ]
  },
  {
   "cell_type": "code",
   "execution_count": null,
   "metadata": {},
   "outputs": [],
   "source": [
    "T = int(input())\n",
    "for tc in range(1, T+1):\n",
    "    N, K = map(int, input().split())\n",
    "    students = [i for i in range(1, N+1)]\n",
    "    submit = list(map(int, input().split()))\n",
    "    for j in range(K):\n",
    "        students.remove(submit[j])\n",
    "    print('#{} '.format(tc), end ='')\n",
    "    for k in range(len(students)):\n",
    "        print(students[k], end= ' ')\n",
    "    print()"
   ]
  },
  {
   "cell_type": "markdown",
   "metadata": {},
   "source": [
    "# 5515"
   ]
  },
  {
   "cell_type": "code",
   "execution_count": null,
   "metadata": {},
   "outputs": [],
   "source": [
    "T = int(input())\n",
    "day_end = [31, 29, 31, 30, 31, 30, 31, 31, 30, 31, 30]\n",
    "mon = [0] * 12\n",
    "day = [4, 5, 6, 0, 1, 2, 3] * 52\n",
    "day.append(4)\n",
    "day.append(5)\n",
    "for i in range(1, len(mon)):\n",
    "    mon[0] = 1\n",
    "    mon[i] = mon[i-1] + day_end[i-1]\n",
    "for tc in range(1, T+1):\n",
    "    m, d = map(int, input().split())\n",
    "    date = mon[m-1]+ d-1\n",
    "    print('#{} {}'.format(tc, day[date-1]))"
   ]
  },
  {
   "cell_type": "markdown",
   "metadata": {},
   "source": [
    "# 5549"
   ]
  },
  {
   "cell_type": "code",
   "execution_count": null,
   "metadata": {},
   "outputs": [],
   "source": [
    "T = int(input())\n",
    "for tc in range(1, T+1):\n",
    "    num = int(input())\n",
    "    if num % 2:\n",
    "        result = 'Odd'\n",
    "    else:\n",
    "        result = 'Even'\n",
    "    print('#{} {}'.format(tc, result))"
   ]
  },
  {
   "cell_type": "markdown",
   "metadata": {},
   "source": [
    "# 5688"
   ]
  },
  {
   "cell_type": "code",
   "execution_count": null,
   "metadata": {},
   "outputs": [],
   "source": [
    "T = int(input())\n",
    "for tc in range(1, T+1):\n",
    "    n = int(input())\n",
    "    i = 1\n",
    "    result = -1\n",
    "    while i <= 10**6:\n",
    "        if i ** 3 != n:\n",
    "            i += 1\n",
    "            continue\n",
    "        else:\n",
    "            result = i\n",
    "            break\n",
    "    print('#{} {}'.format(tc, result))"
   ]
  },
  {
   "cell_type": "markdown",
   "metadata": {},
   "source": [
    "# 5948"
   ]
  },
  {
   "cell_type": "code",
   "execution_count": null,
   "metadata": {},
   "outputs": [],
   "source": [
    "T = int(input())\n",
    "for tc in range(1, T+1):\n",
    "    nums = list(map(int, input().split()))\n",
    "    sum = 0\n",
    "    sums = []\n",
    "    for i in range(5):\n",
    "        sum += nums[i]\n",
    "        for j in range(6):\n",
    "            if j > i:\n",
    "                sum += nums[j]\n",
    "                for k in range(2, 7):\n",
    "                    if k > j:\n",
    "                        sum += nums[k]\n",
    "                        if sum not in sums:\n",
    "                            sums.append(sum)\n",
    "                        sum -= nums[k]\n",
    "                sum -= nums[j]\n",
    "        sum = 0\n",
    "    sums.sort(reverse=True)\n",
    "    print('#{} {}'.format(tc, sums[4]))"
   ]
  },
  {
   "cell_type": "markdown",
   "metadata": {},
   "source": [
    "# 5986"
   ]
  },
  {
   "cell_type": "code",
   "execution_count": null,
   "metadata": {},
   "outputs": [],
   "source": [
    "n = 1000\n",
    "\n",
    "c = [False, False] + [True] * (n - 1)\n",
    "primelist = []\n",
    "\n",
    "for i in range(2, n + 1):\n",
    "    if c[i]:\n",
    "        primelist.append(i)\n",
    "        for j in range(2 * i, n + 1, i):\n",
    "            c[j] = False\n",
    "\n",
    "T = int(input())\n",
    "for tc in range(1, T+1):\n",
    "    N = int(input())\n",
    "    cnt = 0\n",
    "    for x in range(len(primelist)):\n",
    "        for y in range(x, len(primelist)):\n",
    "            for z in range(y, len(primelist)):\n",
    "                if primelist[x] + primelist[y] + primelist[z] == N:\n",
    "                    cnt += 1\n",
    "\n",
    "    print('#{} {}'.format(tc, cnt))"
   ]
  },
  {
   "cell_type": "markdown",
   "metadata": {},
   "source": [
    "# 6692"
   ]
  },
  {
   "cell_type": "code",
   "execution_count": null,
   "metadata": {},
   "outputs": [],
   "source": [
    "T = int(input())\n",
    "for tc in range(1, T+1):\n",
    "    N = int(input())\n",
    "    calculate = []\n",
    "    avg_salary = 0\n",
    "    for i in range(N):\n",
    "        p, x = map(float, input().split())\n",
    "        avg_salary += float(p) * x\n",
    "    print('#{} {}'.format(tc, float(avg_salary)))"
   ]
  },
  {
   "cell_type": "markdown",
   "metadata": {},
   "source": [
    "# 4676"
   ]
  },
  {
   "cell_type": "code",
   "execution_count": null,
   "metadata": {},
   "outputs": [],
   "source": [
    "T = int(input())\n",
    "for tc in range(1, T+1):\n",
    "    words = list(input())\n",
    "    h = int(input())\n",
    "    hi = list(map(int, input().split()))\n",
    "    counting = [0] * (len(words)+1)\n",
    "    for i in hi:\n",
    "        for j in range(len(words)+1):\n",
    "            if i == j:\n",
    "                counting[j] += 1\n",
    "    expand = 0\n",
    "    for i in range(len(counting)):\n",
    "        if counting[i] != 0:\n",
    "            words.insert(i + expand, '-' * counting[i])\n",
    "            expand += 1\n",
    "\n",
    "    print('#{} {}'.format(tc, ''.join(words)))"
   ]
  },
  {
   "cell_type": "markdown",
   "metadata": {},
   "source": [
    "# 5789"
   ]
  },
  {
   "cell_type": "code",
   "execution_count": null,
   "metadata": {},
   "outputs": [],
   "source": [
    "for tc in range(int(input())):\n",
    "    n, q = map(int, input().split())\n",
    "    box = [0] * (n+1)\n",
    "    order = [list(map(int, input().split())) for _ in range(q)]\n",
    "    for i in range(q):\n",
    "        for j in range(order[i][0], order[i][1]+1):\n",
    "            box[j] = i+1\n",
    "    box.pop(0)\n",
    "    print('#{} {}'.format(tc+1, ' '.join(map(str, box))))"
   ]
  },
  {
   "cell_type": "markdown",
   "metadata": {},
   "source": [
    "# 1289"
   ]
  },
  {
   "cell_type": "code",
   "execution_count": null,
   "metadata": {},
   "outputs": [],
   "source": [
    "for tc in range(int(input())):\n",
    "    original = list(map(int, input()))\n",
    "    present = [0] * len(original)\n",
    "    cnt = 0\n",
    "    while original != present:\n",
    "        for i in range(len(original)):\n",
    "            if original[i] != present[i]:\n",
    "                for j in range(i, len(original)):\n",
    "                    present[j] = 1 - present[j]\n",
    "                cnt += 1\n",
    "\n",
    "    print('#{} {}'.format(tc+1, cnt))"
   ]
  },
  {
   "cell_type": "markdown",
   "metadata": {},
   "source": [
    "# 5603"
   ]
  },
  {
   "cell_type": "code",
   "execution_count": null,
   "metadata": {},
   "outputs": [],
   "source": [
    "for tc in range(int(input())):\n",
    "    n = int(input())\n",
    "    hay = list(int(input()) for _ in range(n))\n",
    "    sum = 0\n",
    "    for i in range(n):\n",
    "        sum += hay[i]\n",
    "    avg = sum // n\n",
    "    cnt = 0\n",
    "    for i in hay:\n",
    "        if i > avg:\n",
    "            cnt += (i-avg)\n",
    "    print('#{} {}'.format(tc+1, cnt))"
   ]
  },
  {
   "cell_type": "markdown",
   "metadata": {},
   "source": [
    "# 6019"
   ]
  },
  {
   "cell_type": "code",
   "execution_count": null,
   "metadata": {},
   "outputs": [],
   "source": [
    "for tc in range(int(input())):\n",
    "    d, a, b, f = map(int, input().split())\n",
    "    h = d / (a + b)\n",
    "    result = h * f\n",
    "    print('#{} {}'.format(tc+1, result))"
   ]
  },
  {
   "cell_type": "markdown",
   "metadata": {},
   "source": [
    "# 3376"
   ]
  },
  {
   "cell_type": "code",
   "execution_count": null,
   "metadata": {},
   "outputs": [],
   "source": [
    "for tc in range(int(input())):\n",
    "    n = int(input())\n",
    "    padoban = [1, 1, 1, 2, 2]\n",
    "    for i in range(5, n):\n",
    "        padoban.append(padoban[i-3] + padoban[i-2])\n",
    "    print('#{} {}'.format(tc+1, padoban[n-1]))"
   ]
  },
  {
   "cell_type": "markdown",
   "metadata": {},
   "source": [
    "# 2817"
   ]
  },
  {
   "cell_type": "code",
   "execution_count": null,
   "metadata": {},
   "outputs": [],
   "source": [
    "for tc in range(int(input())):\n",
    "    n, k = map(int, input().split())\n",
    "    nums = list(map(int, input().split()))\n",
    "    cnt = 0\n",
    "    for i in range(1<<n):\n",
    "        sum = 0\n",
    "        for j in range(n):\n",
    "            if i&(1<<j):\n",
    "                sum += nums[j]\n",
    "            if sum == k:\n",
    "                cnt += 1\n",
    "    print('#{} {}'.format(tc+1, cnt))"
   ]
  },
  {
   "cell_type": "markdown",
   "metadata": {},
   "source": [
    "# 3233"
   ]
  },
  {
   "cell_type": "code",
   "execution_count": null,
   "metadata": {},
   "outputs": [],
   "source": [
    "for tc in range(int(input())):\n",
    "    a, b = map(int, input().split())\n",
    "    if b > a//2:\n",
    "        result = 1\n",
    "    else:\n",
    "        result = (a // b) ** 2\n",
    "    print('#{} {}'.format(tc+1, result))"
   ]
  },
  {
   "cell_type": "markdown",
   "metadata": {},
   "source": [
    "# 6485"
   ]
  },
  {
   "cell_type": "code",
   "execution_count": null,
   "metadata": {},
   "outputs": [],
   "source": [
    "for tc in range(int(input())):\n",
    "    n = int(input())\n",
    "    bus = list(list(map(int, input().split())) for _ in range(n))\n",
    "    p = int(input())\n",
    "    stops = list(int(input()) for _ in range(p))\n",
    "    total = [0] * 5001\n",
    "    for i in range(n):\n",
    "        for j in range(bus[i][0], bus[i][1]+1):\n",
    "            total[j] += 1\n",
    "    print('#{} '.format(tc+1), end= '')\n",
    "    for i in range(p):\n",
    "        print('{}'.format(total[stops[i]]), end = ' ')\n",
    "    print()"
   ]
  },
  {
   "cell_type": "markdown",
   "metadata": {},
   "source": [
    "# 1206"
   ]
  },
  {
   "cell_type": "code",
   "execution_count": null,
   "metadata": {},
   "outputs": [],
   "source": [
    "for i in range(1, 11):\n",
    "    w = int(input())\n",
    "    count = 0\n",
    "    b_h = list(map(int, input().split())) # 빌딩 높이 입력 받기\n",
    "    for j in range(len(b_h)):\n",
    "        if b_h[j] <= 255: # 제약사항 확인 1. 빌딩 높이\n",
    "            continue\n",
    "    if w <= 1000 and len(b_h) == w and b_h[0] == 0 and b_h[1] == 0 and b_h[(len(b_h)-2)] == 0 and b_h[len(b_h)-1]== 0:  # 제약사항 확인 2. 가로의 길이 3. 빌딩 높이 개수와 가로 길이 일치 4. 맨 왼쪽 및 맨 오른쪽 두칸에는 건물이 지어지지 않음\n",
    "        for j in range(2, len(b_h)-2): # 건물이 지어지지 않는 맨 왼쪽 두칸과 맨 오른쪽 두칸\n",
    "            left = max(b_h[j-2:j])\n",
    "            if b_h[j] < left: # 왼쪽 조망권 확인\n",
    "                continue\n",
    "            right = max(b_h[j+1:j+3]) # 오른쪽 조망권 확인\n",
    "            if b_h[j] < right:\n",
    "                continue\n",
    "            around_h = max(left, right) # 주변 확인\n",
    "            count += (b_h[j] - around_h) # 왼쪽, 오른쪽 건물 중 확인하려는 건물의 조망권 침해 층수 제거\n",
    "    print(f'#{i} {count}')"
   ]
  },
  {
   "cell_type": "markdown",
   "metadata": {},
   "source": [
    "# 3408"
   ]
  },
  {
   "cell_type": "code",
   "execution_count": null,
   "metadata": {},
   "outputs": [],
   "source": [
    "for tc in range(int(input())):\n",
    "    n = int(input())\n",
    "    s1 = (n*(n+1))// 2\n",
    "    s2 = n**2\n",
    "    s3 = n**2 + n\n",
    "    print('#{} {} {} {}'.format(tc+1, s1, s2, s3))"
   ]
  },
  {
   "cell_type": "markdown",
   "metadata": {},
   "source": [
    "# 3750"
   ]
  },
  {
   "cell_type": "code",
   "execution_count": null,
   "metadata": {},
   "outputs": [],
   "source": [
    "ans = list()\n",
    "for tc in range(int(input())):\n",
    "    nums = input()\n",
    "    f = [1, 2, 3, 4, 5, 6, 7, 8, 9]\n",
    "    if int(nums) < 10:\n",
    "        ans.append(int(nums))\n",
    "    else:\n",
    "        sum = 0\n",
    "        for i in range(len(nums)):\n",
    "            sum += int(nums[i])\n",
    "        if sum >= 10:\n",
    "            result = f[(sum%9)-1]\n",
    "            ans.append(result)\n",
    "        else:\n",
    "            result = sum\n",
    "            ans.append(result)\n",
    "j = 1\n",
    "for i in ans:\n",
    "    print('#{} {}'.format(j, i))\n",
    "    j += 1"
   ]
  },
  {
   "cell_type": "markdown",
   "metadata": {},
   "source": [
    "# 3975"
   ]
  },
  {
   "cell_type": "code",
   "execution_count": null,
   "metadata": {},
   "outputs": [],
   "source": [
    "ans = list()\n",
    "for tc in range(int(input())):\n",
    "    a, b, c, d = map(int, input().split())\n",
    "    alice = a / b\n",
    "    bob = c / d\n",
    "    if alice > bob:\n",
    "        result= 'ALICE'\n",
    "    elif alice < bob:\n",
    "        result = 'BOB'\n",
    "    elif alice == bob:\n",
    "        result = 'DRAW'\n",
    "    ans.append(result)\n",
    "j = 1\n",
    "for i in ans:\n",
    "    print('#{} {}'.format(j, i))\n",
    "    j = j+1"
   ]
  },
  {
   "cell_type": "markdown",
   "metadata": {},
   "source": [
    "# 4522"
   ]
  },
  {
   "cell_type": "code",
   "execution_count": null,
   "metadata": {},
   "outputs": [],
   "source": [
    "for tc in range(int(input())):\n",
    "    given = input()\n",
    "    result = 'Exist'\n",
    "    for i in range(1, (len(given)//2)+1):\n",
    "        if given[i-1] == '?' or given[-i] == '?':\n",
    "            continue\n",
    "        elif given[i-1] != '?' or given[-i] != '?' and given[i-1] != given[-i]:\n",
    "            result = 'Not exist'\n",
    "            break\n",
    "    print('#{} {}'.format(tc+1, result))"
   ]
  },
  {
   "cell_type": "markdown",
   "metadata": {},
   "source": [
    "# 4789"
   ]
  },
  {
   "cell_type": "code",
   "execution_count": null,
   "metadata": {},
   "outputs": [],
   "source": [
    "for tc in range(int(input())):\n",
    "    nums = list(map(int, input()))\n",
    "    ap = nums[0]\n",
    "    cnt = 0\n",
    "    for i in range(1, len(nums)):\n",
    "        if ap >= i:\n",
    "            ap += nums[i]\n",
    "        else:\n",
    "            ap += nums[i]\n",
    "            cnt += 1\n",
    "            ap += 1\n",
    "    print('#{} {}'.format(tc+1, cnt))"
   ]
  },
  {
   "cell_type": "markdown",
   "metadata": {},
   "source": [
    "# 1873"
   ]
  },
  {
   "cell_type": "code",
   "execution_count": null,
   "metadata": {},
   "outputs": [],
   "source": [
    "for TC in range(int(input())):\n",
    "    h, w = map(int, input().split())\n",
    "    field = [ list(input()) for _ in range(h)]\n",
    "    n = int(input())\n",
    "    given = input()\n",
    "    tank = [0, '>', '<', 'v', '^']\n",
    "    for i in range(h):\n",
    "        for j in range(w):\n",
    "            if field[i][j] in tank:\n",
    "                tr = i\n",
    "                tc = j\n",
    "    field[tr][tc] = tank.index(field[tr][tc])\n",
    "    dr = [0, 0, 0, 1, -1]\n",
    "    dc = [0, 1, -1, 0, 0]\n",
    "    for o in given:\n",
    "        if o == 'S':\n",
    "            cr = tr\n",
    "            cc = tc\n",
    "            d = field[tr][tc]\n",
    "            while True:\n",
    "                nr = cr+dr[d]\n",
    "                nc = cc+dc[d]\n",
    "                if nr < 0 or nr >= h or nc < 0 or nc >= w: break\n",
    "                if field[nr][nc] == '-' or field[nr][nc] == '.':\n",
    "                    cr = nr\n",
    "                    cc = nc\n",
    "                    continue\n",
    "                elif field[nr][nc] == '*':\n",
    "                    field[nr][nc] = '.'\n",
    "                    break\n",
    "                elif field[nr][nc] == '#':\n",
    "                    break\n",
    "        elif o == 'R':\n",
    "            field[tr][tc] = 1\n",
    "            if tc+dc[1] < w and field[tr+dr[1]][tc+dc[1]] == '.':\n",
    "                field[tr+dr[1]][tc+dc[1]] = 1\n",
    "                field[tr][tc] = '.'\n",
    "                tr = tr+dr[1]\n",
    "                tc = tc+dc[1]\n",
    "        elif o == 'L':\n",
    "            field[tr][tc] = 2\n",
    "            if 0 <= tc+dc[2] and field[tr+dr[2]][tc+dc[2]] == '.':\n",
    "                field[tr+dr[2]][tc+dc[2]] = 2\n",
    "                field[tr][tc] = '.'\n",
    "                tr = tr+dr[2]\n",
    "                tc = tc+dc[2]\n",
    "        elif o == 'D':\n",
    "            field[tr][tc] = 3\n",
    "            if tr+dr[3] < h and field[tr+dr[3]][tc+dc[3]] == '.':\n",
    "                field[tr+dr[3]][tc+dc[3]] = 3\n",
    "                field[tr][tc] = '.'\n",
    "                tr = tr+dr[3]\n",
    "                tc = tc+dc[3]\n",
    "        elif o == 'U':\n",
    "            field[tr][tc] = 4\n",
    "            if 0 <= tr+dr[4] and field[tr+dr[4]][tc+dc[4]] == '.':\n",
    "                field[tr+dr[4]][tc+dc[4]] = 4\n",
    "                field[tr][tc] = '.'\n",
    "                tr = tr+dr[4]\n",
    "                tc = tc+dc[4]\n",
    "    field[tr][tc] = tank[field[tr][tc]]\n",
    "    print('#{} '.format(TC+1), end='')\n",
    "    for i in range(h):\n",
    "        print('{}'.format(''.join(field[i])))"
   ]
  },
  {
   "cell_type": "markdown",
   "metadata": {},
   "source": [
    "# 1860"
   ]
  },
  {
   "cell_type": "code",
   "execution_count": null,
   "metadata": {},
   "outputs": [],
   "source": [
    "for tc in range(int(input())):\n",
    "    n, m, k = map(int, input().split())\n",
    "    c = list(map(int, input().split()))\n",
    "    t = [0] * (max(c)+1)\n",
    "    for s in c:\n",
    "        t[s] += 1\n",
    "    b = 0\n",
    "    result = 'Possible'\n",
    "    for i in range(len(t)):\n",
    "        if i > 0 and i % m == 0:\n",
    "            b += k\n",
    "        b -= t[i]\n",
    "        if b < 0:\n",
    "            result = 'Impossible'\n",
    "            break\n",
    "    print('#{} {}'.format(tc+1, result))"
   ]
  },
  {
   "cell_type": "markdown",
   "metadata": {},
   "source": [
    "# 4371"
   ]
  },
  {
   "cell_type": "code",
   "execution_count": null,
   "metadata": {},
   "outputs": [],
   "source": [
    "for tc in range(int(input())):\n",
    "    n = int(input())\n",
    "    port = list(int(input()) for _ in range(n))\n",
    "    d = [port[1]-port[0]]\n",
    "    for i in range(2, n):\n",
    "        j = len(d)\n",
    "        k = 0\n",
    "        while k < j:\n",
    "            if (port[i]-port[0]) % d[k] == 0:\n",
    "                break\n",
    "            else:\n",
    "                k += 1\n",
    "        if k == j:\n",
    "            d.append(port[i]-port[0])\n",
    "    print('#{} {}'.format(tc+1, len(d)))"
   ]
  },
  {
   "cell_type": "markdown",
   "metadata": {},
   "source": [
    "# 5215"
   ]
  },
  {
   "cell_type": "code",
   "execution_count": null,
   "metadata": {},
   "outputs": [],
   "source": [
    "for tc in range(int(input())):\n",
    "    n, l = map(int, input().split())\n",
    "    ing = [list(map(int, input().split())) for _ in range(n)]\n",
    "    maxT = 0\n",
    "    for i in range(1<<n):\n",
    "        cal = 0\n",
    "        T = 0\n",
    "        for j in range(n):\n",
    "            if i&(1<<j):\n",
    "                cal += ing[j][1]\n",
    "                T += ing[j][0]\n",
    "            if cal <= l and maxT < T:\n",
    "                maxT = T\n",
    "    print('#{} {}'.format(tc+1, maxT))"
   ]
  },
  {
   "cell_type": "markdown",
   "metadata": {},
   "source": [
    "# 7675"
   ]
  },
  {
   "cell_type": "code",
   "execution_count": null,
   "metadata": {},
   "outputs": [],
   "source": [
    "for tc in range(int(input())):\n",
    "    n = int(input())\n",
    "    sen = list(input().split())\n",
    "    u = [chr(i) for i in range(65, 91)]\n",
    "    nums = '1234567890'\n",
    "    ans = [0] * n\n",
    "    cnt = 0\n",
    "    i = 0\n",
    "    for s in sen:\n",
    "        ucnt = 0\n",
    "        for j in range(len(s)):\n",
    "            if s[j] in u:\n",
    "                ucnt += 1\n",
    "            if s[j] in nums:\n",
    "                ucnt = 0\n",
    "                break\n",
    "        if ucnt == 1:\n",
    "            cnt += 1\n",
    "        if s[-1] == '!' or s[-1] == '.' or s[-1] == '?':\n",
    "            ans[i] += cnt\n",
    "            i += 1\n",
    "            cnt = 0\n",
    "    print('#{} {}'.format(tc+1, ' '.join(map(str, ans))))"
   ]
  },
  {
   "cell_type": "markdown",
   "metadata": {},
   "source": [
    "# 6190"
   ]
  },
  {
   "cell_type": "code",
   "execution_count": null,
   "metadata": {},
   "outputs": [],
   "source": [
    "def monotoneincreasing(x):\n",
    "    x = str(x)\n",
    "    i = len(x)\n",
    "    while i > 1:\n",
    "        if int(x[i-1]) >= int(x[i-2]):\n",
    "            i -= 1\n",
    "        else:\n",
    "            return False\n",
    "    return True\n",
    "\n",
    "for tc in range(int(input())):\n",
    "    n = int(input())\n",
    "    nums = list(map(int, input().split()))\n",
    "    maxV = -1\n",
    "    for i in range(n):\n",
    "        for j in range(i+1, n):\n",
    "            num = nums[i]*nums[j]\n",
    "            if num >= 10 and monotoneincreasing(num) and num > maxV:\n",
    "                maxV = num\n",
    "    print('#{} {}'.format(tc+1, maxV))"
   ]
  }
 ],
 "metadata": {
  "kernelspec": {
   "display_name": "Python 3",
   "language": "python",
   "name": "python3"
  },
  "language_info": {
   "codemirror_mode": {
    "name": "ipython",
    "version": 3
   },
   "file_extension": ".py",
   "mimetype": "text/x-python",
   "name": "python",
   "nbconvert_exporter": "python",
   "pygments_lexer": "ipython3",
   "version": "3.7.3"
  }
 },
 "nbformat": 4,
 "nbformat_minor": 4
}
