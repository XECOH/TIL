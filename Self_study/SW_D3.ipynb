{
 "cells": [
  {
   "cell_type": "markdown",
   "metadata": {},
   "source": [
    "# 5601"
   ]
  },
  {
   "cell_type": "code",
   "execution_count": null,
   "metadata": {},
   "outputs": [],
   "source": [
    "T = int(input())\n",
    "for tc in range(1, T+1):\n",
    "    N = int(input())\n",
    "    print('#{} '.format(tc), end= '')\n",
    "    for i in range(N):\n",
    "        print('{}'.format('1'+'/'+str(N)), end = ' ')\n",
    "    print()"
   ]
  },
  {
   "cell_type": "markdown",
   "metadata": {},
   "source": [
    "# 1206 "
   ]
  },
  {
   "cell_type": "code",
   "execution_count": null,
   "metadata": {},
   "outputs": [],
   "source": [
    "for i in range(1, 11):\n",
    "    w = int(input())\n",
    "    count = 0\n",
    "    b_h = list(map(int, input().split())) # 빌딩 높이 입력 받기\n",
    "    for j in range(len(b_h)):\n",
    "        if b_h[j] <= 255: # 제약사항 확인 1. 빌딩 높이\n",
    "            continue\n",
    "    if w <= 1000 and len(b_h) == w and b_h[0] == 0 and b_h[1] == 0 and b_h[(len(b_h)-2)] == 0 and b_h[len(b_h)-1]== 0:  # 제약사항 확인 2. 가로의 길이 3. 빌딩 높이 개수와 가로 길이 일치 4. 맨 왼쪽 및 맨 오른쪽 두칸에는 건물이 지어지지 않음\n",
    "        for j in range(2, len(b_h)-2): # 건물이 지어지지 않는 맨 왼쪽 두칸과 맨 오른쪽 두칸\n",
    "            left = max(b_h[j-2:j])\n",
    "            if b_h[j] < left: # 왼쪽 조망권 확인\n",
    "                continue\n",
    "            right = max(b_h[j+1:j+3]) # 오른쪽 조망권 확인\n",
    "            if b_h[j] < right:\n",
    "                continue\n",
    "            around_h = max(left, right) # 주변 확인\n",
    "            count += (b_h[j] - around_h) # 왼쪽, 오른쪽 건물 중 확인하려는 건물의 조망권 침해 층수 제거\n",
    "    print(f'#{i} {count}')"
   ]
  },
  {
   "cell_type": "markdown",
   "metadata": {},
   "source": [
    "# 1208"
   ]
  },
  {
   "cell_type": "code",
   "execution_count": null,
   "metadata": {},
   "outputs": [],
   "source": [
    "for i in range(1, 11):\n",
    "    t = int(input())\n",
    "    b_h = list(map(int, input().split()))\n",
    "    for j in range(len(b_h)):\n",
    "    if 1 <= b_h[j] <= 100 and len(b_h) == 100:\n",
    "            continue\n",
    "\n",
    "    while t > 0:\n",
    "        max_h = 1\n",
    "        min_h = 100\n",
    "        max_l = 0\n",
    "        min_l = 0\n",
    "        for j in range(len(b_h)):\n",
    "            if max_h < b_h[j]:\n",
    "                max_h = b_h[j]\n",
    "                max_l = j\n",
    "            if min_h > b_h[j]:\n",
    "                min_h = b_h[j]\n",
    "                min_l = j\n",
    "        b_h[max_l] -= 1\n",
    "        b_h[min_l] += 1\n",
    "        t -= 1\n",
    "\n",
    "    max_h = 1\n",
    "    min_h = 100\n",
    "    for j in range(len(b_h)):\n",
    "        if max_h < b_h[j]:\n",
    "            max_h = b_h[j]\n",
    "        if min_h > b_h[j]:\n",
    "            min_h = b_h[j]\n",
    "    diff_h = max_h - min_h\n",
    "    print(f'#{i} {diff_h}')"
   ]
  },
  {
   "cell_type": "markdown",
   "metadata": {},
   "source": [
    "# 1209"
   ]
  },
  {
   "cell_type": "code",
   "execution_count": null,
   "metadata": {},
   "outputs": [],
   "source": [
    "T = 10\n",
    "for tc in range(1, T+1):\n",
    "    N = int(input())\n",
    "    matrix = []\n",
    "    for i in range(100):\n",
    "        matrix.append(list(map(int, input().split())))\n",
    "    sum = 0\n",
    "    sum_l = []\n",
    "    for i in range(len(matrix)): # 가로 합\n",
    "        for j in range(len(matrix)):\n",
    "            sum += matrix[i][j]\n",
    "        sum_l.append(sum)\n",
    "        sum = 0\n",
    "    sum = 0\n",
    "    for i in range(len(matrix)):\n",
    "        for j in range(len(matrix)):\n",
    "            sum += matrix[j][i]\n",
    "        sum_l.append(sum)\n",
    "        sum = 0\n",
    "    sum = 0\n",
    "    for i in range(len(matrix)):\n",
    "        for j in range(len(matrix)):\n",
    "            if i == j:\n",
    "                sum += matrix[i][j]\n",
    "        sum_l.append(sum)\n",
    "        sum = 0\n",
    "    sum = 0\n",
    "    for i in range(len(matrix)-1, -1, -1):\n",
    "        sum += matrix[i][i]\n",
    "        \n",
    "    print(f'#{tc} {max(sum_l)}')"
   ]
  },
  {
   "cell_type": "markdown",
   "metadata": {},
   "source": [
    "# 1213"
   ]
  },
  {
   "cell_type": "code",
   "execution_count": null,
   "metadata": {},
   "outputs": [],
   "source": [
    "T = 10\n",
    "for tc in range(1, T+1):\n",
    "    N = int(input())\n",
    "    searching = input()\n",
    "    sentences = input()\n",
    "    cnt = 0\n",
    "    for i in range(len(sentences)-len(searching)+1):\n",
    "        if sentences[i:i+len(searching)] == searching:\n",
    "            cnt += 1\n",
    "    print('#{} {}'.format(tc, cnt))"
   ]
  },
  {
   "cell_type": "markdown",
   "metadata": {},
   "source": [
    "# 1215"
   ]
  },
  {
   "cell_type": "code",
   "execution_count": null,
   "metadata": {},
   "outputs": [],
   "source": [
    "def is_palindrome(list):\n",
    "    for i in range(1, int(len(list)/2)+1):\n",
    "        if list[i-1] == list[-i]:\n",
    "            continue\n",
    "        else:\n",
    "            return False\n",
    "            break\n",
    "    return True\n",
    "\n",
    "T = 10\n",
    "for tc in range(1, T+1):\n",
    "    l = int(input())\n",
    "    board = [list(map(str, input())) for _ in range(8)]\n",
    "    cnt = 0\n",
    "    for i in range(8):\n",
    "        for j in range(8-l+1):\n",
    "            tempr = []\n",
    "            for k in range(l):\n",
    "                tempr.append(board[i][j+k])\n",
    "            if is_palindrome(tempr):\n",
    "                cnt += 1\n",
    "            tempc = []\n",
    "            for k in range(l):\n",
    "                tempc.append(board[j+k][i])\n",
    "            if is_palindrome(tempc):\n",
    "                cnt += 1\n",
    "    print('#{} {}'.format(tc, cnt))"
   ]
  },
  {
   "cell_type": "markdown",
   "metadata": {},
   "source": [
    "# 1216"
   ]
  },
  {
   "cell_type": "code",
   "execution_count": null,
   "metadata": {},
   "outputs": [],
   "source": [
    "T = 10\n",
    "for tc in range(1, T+1):\n",
    "    N = int(input())\n",
    "    words = [list(map(str, input())) for _ in range(100)]\n",
    "    cntr = 0\n",
    "    result = []\n",
    "    for i in range(100):\n",
    "        for j in range(100):\n",
    "            temp = ''\n",
    "            for k in range(100):\n",
    "                if j + k <= 99:\n",
    "                    temp += words[i][j+k]\n",
    "                    if temp == temp[::-1]:\n",
    "                        if len(temp) > cntr:\n",
    "                            cntr = len(temp)\n",
    "                    else:\n",
    "                        continue\n",
    "    cnth = 0\n",
    "    for i in range(100):\n",
    "        for j in range(100):\n",
    "            temp = ''\n",
    "            for k in range(100):\n",
    "                if j + k <= 99:\n",
    "                    temp += words[j+k][i]\n",
    "                    if temp == temp[::-1]:\n",
    "                        if len(temp) > cnth:\n",
    "                            cnth = len(temp)\n",
    "                    else:\n",
    "                        continue\n",
    "    if cntr > cnth:\n",
    "        print('#{} {}'.format(tc, cntr))\n",
    "    else:\n",
    "        print('#{} {}'.format(tc, cnth))"
   ]
  },
  {
   "cell_type": "markdown",
   "metadata": {},
   "source": [
    "# 1217"
   ]
  },
  {
   "cell_type": "code",
   "execution_count": null,
   "metadata": {},
   "outputs": [],
   "source": [
    "def power(i, j, k):\n",
    "    if j < 2:\n",
    "        return k*i\n",
    "    return power(i, j-1, k*i)\n",
    "    \n",
    "T = 10\n",
    "for tc in range(1, T + 1):\n",
    "    N = int(input())\n",
    "    n, m = map(int, input().split())\n",
    "    print('#{} {}'.format(tc, power(n, m, 1)))"
   ]
  },
  {
   "cell_type": "markdown",
   "metadata": {},
   "source": [
    "# 1220"
   ]
  },
  {
   "cell_type": "code",
   "execution_count": null,
   "metadata": {},
   "outputs": [],
   "source": [
    "T = 10\n",
    "for tc in range(1, T+1):\n",
    "    N = int(input())\n",
    "    table = [list(map(int, input().split())) for _ in range(100)]\n",
    "    cnt = 0\n",
    "    for i in range(100):\n",
    "        temp = []\n",
    "        for j in range(100):\n",
    "            if table[j][i] == 1 or table[j][i] == 2:\n",
    "                temp.append(table[j][i])\n",
    "        while temp:\n",
    "            a = temp.pop()\n",
    "            if len(temp) >= 1:\n",
    "                b = temp[-1]\n",
    "                if a == 2 and b == 1:\n",
    "                    cnt +=1\n",
    "                else:\n",
    "                    continue\n",
    "            else:\n",
    "                break\n",
    "\n",
    "    print('#{} {}'.format(tc, cnt))"
   ]
  },
  {
   "cell_type": "markdown",
   "metadata": {},
   "source": [
    "# 1221"
   ]
  },
  {
   "cell_type": "code",
   "execution_count": null,
   "metadata": {},
   "outputs": [],
   "source": [
    "T = int(input())\n",
    "for tc in range(1, T+1):\n",
    "    TC, l = map(str, input().split())\n",
    "    strings = list(map(str, input().split()))\n",
    "    num = [0, 1, 2, 3, 4, 5, 6, 7, 8, 9]\n",
    "    alien = ['ZRO', 'ONE', 'TWO', 'THR', 'FOR', 'FIV', 'SIX', 'SVN', 'EGT', 'NIN']\n",
    "    for i in range(int(l)):\n",
    "        for j in range(len(alien)):\n",
    "            if strings[i] == alien[j]:\n",
    "                strings[i] = num[j]\n",
    "    strings.sort()\n",
    "    print('#{}'.format(tc))\n",
    "    for i in range(int(l)):\n",
    "        for j in range(len(alien)):\n",
    "            if strings[i] == num[j]:\n",
    "                strings[i] = alien[j]\n",
    "    for i in range(int(l)):\n",
    "        print('{}'.format(strings[i]), end= ' ')"
   ]
  },
  {
   "cell_type": "markdown",
   "metadata": {},
   "source": [
    "# 1225"
   ]
  },
  {
   "cell_type": "code",
   "execution_count": null,
   "metadata": {},
   "outputs": [],
   "source": [
    "T = 10\n",
    "for tc in range(1, T+1):\n",
    "    n = int(input())\n",
    "    codes = list(map(int, input().split()))\n",
    "    a = 1\n",
    "    while a !=0:\n",
    "        for i in range(1, 6):\n",
    "            a = codes[0] - i\n",
    "            if a <= 0:\n",
    "                a = 0\n",
    "                codes[0] = a\n",
    "            else:\n",
    "                codes[0] = a\n",
    "                codes.append(a)\n",
    "                codes.remove(a)\n",
    "    codes.remove(0)\n",
    "    codes.append(0)\n",
    "    print('#{} '.format(tc), end= '')\n",
    "    for i in range(8):\n",
    "        print('{}'.format(codes[i]), end=' ')\n",
    "    print()\n"
   ]
  },
  {
   "cell_type": "markdown",
   "metadata": {},
   "source": [
    "# 1228"
   ]
  },
  {
   "cell_type": "code",
   "execution_count": null,
   "metadata": {},
   "outputs": [],
   "source": [
    "T = 10\n",
    "for tc in range(1, T+1):\n",
    "    f1 = int(input())\n",
    "    s = list(map(int, input().split()))\n",
    "    t = int(input())\n",
    "    f4 = list(map(str, input().split()))\n",
    "    for i in range(len(f4)):\n",
    "        if f4[i] == 'I':\n",
    "            for j in range(int(f4[i+2])):\n",
    "                s.insert(int(f4[i+1])+j, int(f4[i+3+j]))\n",
    "        else:\n",
    "            continue\n",
    "    print('#{} '.format(tc), end= '')\n",
    "    for i in range(10):\n",
    "        print('{}'.format(s[i]), end= ' ')\n",
    "    print()"
   ]
  },
  {
   "cell_type": "markdown",
   "metadata": {},
   "source": [
    "# 1229"
   ]
  },
  {
   "cell_type": "code",
   "execution_count": null,
   "metadata": {},
   "outputs": [],
   "source": [
    "T = 10\n",
    "for tc in range(1, T+1):\n",
    "    f1 = int(input())\n",
    "    s = list(map(int, input().split()))\n",
    "    t = int(input())\n",
    "    f4 = list(map(str, input().split()))\n",
    "    for i in range(len(f4)):\n",
    "        if f4[i] == 'I':\n",
    "            for j in range(int(f4[i+2])):\n",
    "                s.insert(int(f4[i+1])+j, int(f4[i+3+j]))\n",
    "        elif f4[i] == 'D':\n",
    "            for j in range(int(f4[i+2])):\n",
    "                s.pop(int(f4[i+1]))\n",
    "        else:\n",
    "            continue\n",
    "    print('#{} '.format(tc), end= '')\n",
    "    for i in range(10):\n",
    "        print('{}'.format(s[i]), end= ' ')\n",
    "    print()"
   ]
  },
  {
   "cell_type": "markdown",
   "metadata": {},
   "source": [
    "# 1230"
   ]
  },
  {
   "cell_type": "code",
   "execution_count": null,
   "metadata": {},
   "outputs": [],
   "source": [
    "T = 10\n",
    "for tc in range(1, T+1):\n",
    "    f1 = int(input())\n",
    "    s = list(map(int, input().split()))\n",
    "    t = int(input())\n",
    "    f4 = list(map(str, input().split()))\n",
    "    for i in range(len(f4)):\n",
    "        if f4[i] == 'I':\n",
    "            for j in range(int(f4[i+2])):\n",
    "                s.insert(int(f4[i+1])+j, int(f4[i+3+j]))\n",
    "        elif f4[i] == 'D':\n",
    "            for j in range(int(f4[i+2])):\n",
    "                s.pop(int(f4[i+1]))\n",
    "        elif f4[i] == 'A':\n",
    "            for j in range(int(f4[i+1])):\n",
    "                s.append(int(f4[i+2])+j)\n",
    "        else:\n",
    "            continue\n",
    "    print('#{} '.format(tc), end= '')\n",
    "    for i in range(10):\n",
    "        print('{}'.format(s[i]), end= ' ')\n",
    "    print()"
   ]
  },
  {
   "cell_type": "markdown",
   "metadata": {},
   "source": [
    "# 1234"
   ]
  },
  {
   "cell_type": "code",
   "execution_count": null,
   "metadata": {},
   "outputs": [],
   "source": [
    "T = 10\n",
    "for tc in range(1, T+1):\n",
    "    l, s = input().split()\n",
    "    s = list(map(int, s))\n",
    "    st = list()\n",
    "    for i in range(int(l)):\n",
    "        if not st or st[-1] != s[i]:\n",
    "            st.append(s[i])\n",
    "        elif st and st[-1] == s[i]:\n",
    "            st.pop()\n",
    "    print('#{} {}'.format(tc, ''.join(map(str, st))))"
   ]
  },
  {
   "cell_type": "markdown",
   "metadata": {},
   "source": [
    "# 1240"
   ]
  },
  {
   "cell_type": "code",
   "execution_count": null,
   "metadata": {},
   "outputs": [],
   "source": [
    "T = int(input())\n",
    "num = ['0001101', '0011001', '0010011', '0111101', '0100011', '0110001', '0101111', '0111011', '0110111', '0001011']\n",
    "for tc in range(1, T+1):\n",
    "    n, m = map(int, input().split())\n",
    "    code = [list(map(int, input())) for _ in range(n)]\n",
    "    ncode = []\n",
    "    nncode = []\n",
    "    sri = 0\n",
    "    for i in range(n):\n",
    "        if 1 in code[i]:\n",
    "            sri = i\n",
    "            break\n",
    "    sci = 0\n",
    "    for i in range(m-1, -1, -1):\n",
    "        if code[sri][i] == 1:\n",
    "            sci = i\n",
    "            break\n",
    "    ncode = code[sri][sci-55:sci+1]\n",
    "    for i in range(8):\n",
    "        for j in range(10):\n",
    "            if ''.join(map(str, ncode[7*i:7*(i+1)])) == num[j]:\n",
    "                nncode.append(j)\n",
    "\n",
    "    check = 0\n",
    "    if (((nncode[0]+nncode[2]+nncode[4]+nncode[6])*3 + nncode[1]+ nncode[3] + nncode[5]) % 10 + nncode[7]) % 10 == 0:\n",
    "        for i in nncode:\n",
    "            check += i\n",
    "    else:\n",
    "        check = 0\n",
    "\n",
    "    print('#{} {}'.format(tc, check))"
   ]
  },
  {
   "cell_type": "markdown",
   "metadata": {},
   "source": [
    "# 1493"
   ]
  },
  {
   "cell_type": "code",
   "execution_count": null,
   "metadata": {},
   "outputs": [],
   "source": [
    "T = int(input())\n",
    "for tc in range(1, T+1):\n",
    "    p, q = map(int, input().split())\n",
    "    list = [[0 for _ in range(300)] for _ in range(300)]\n",
    "    for i in range(2, 301):\n",
    "        list[1][i-1] = int(((i-1)**2+(i-1))/2)\n",
    "    for i in range(2, 300):\n",
    "        list[i][1] = list[1][1] + int(((i-1)**2-(i-1))/2) + i-1\n",
    "    for i in range(2,298):\n",
    "        for j in range(2, 299):\n",
    "            list[j][i] = list[j+1][i-1] + 1\n",
    "\n",
    "    pir = 0\n",
    "    pic = 0\n",
    "    qir = 0\n",
    "    qic = 0\n",
    "\n",
    "    for i in range(1, 200):\n",
    "        for j in range(1, 200):\n",
    "            while list[i][j] == p:\n",
    "                pic = j\n",
    "                pir = i\n",
    "                break\n",
    "            while list[i][j] == q:\n",
    "                qic = j\n",
    "                qir = i\n",
    "                break\n",
    "        if pir != 0 and pic != 0 and qir != 0 and qic != 0:\n",
    "            break\n",
    "\n",
    "    resultr = (pir + qir)\n",
    "    resultc = (pic + qic)\n",
    "\n",
    "    print('#{} {}'.format(tc, list[resultr][resultc]))"
   ]
  },
  {
   "cell_type": "markdown",
   "metadata": {},
   "source": [
    "# 2805"
   ]
  },
  {
   "cell_type": "code",
   "execution_count": null,
   "metadata": {},
   "outputs": [],
   "source": [
    "T = int(input())\n",
    "for tc in range(1, T+1):\n",
    "    N = int(input())\n",
    "    farm = [list(map(int, input())) for _ in range(N)]\n",
    "    h = N // 2\n",
    "    yields = 0\n",
    "    for i in range(N):\n",
    "        yields += farm[i][h]\n",
    "        if 0 < i <= h:\n",
    "            for j in range(1, i+1):\n",
    "                yields += farm[i][h+j]\n",
    "                yields += farm[i][h-j]\n",
    "        elif h < i < N-1:\n",
    "            for j in range(1, 2*h-i+1):\n",
    "                yields += farm[i][h+j]\n",
    "                yields += farm[i][h-j]\n",
    "    print('#{} {}'.format(tc, yields))"
   ]
  },
  {
   "cell_type": "markdown",
   "metadata": {},
   "source": [
    "# 2948"
   ]
  },
  {
   "cell_type": "code",
   "execution_count": null,
   "metadata": {},
   "outputs": [],
   "source": [
    "T = int(input())\n",
    "for tc in range(1, T+1):\n",
    "    n, m = map(int, input().split())\n",
    "    nl = list(map(str, input().split()))\n",
    "    ml = list(map(str, input().split()))\n",
    "    tl = list(set(nl+ml))\n",
    "    result = n+m - len(tl)\n",
    "    print('#{} {}'.format(tc, result))"
   ]
  },
  {
   "cell_type": "markdown",
   "metadata": {},
   "source": [
    "# 3131"
   ]
  },
  {
   "cell_type": "code",
   "execution_count": null,
   "metadata": {},
   "outputs": [],
   "source": [
    "n=10**6\n",
    "a = [False,False] + [True]*(n-1)\n",
    "primes=[]\n",
    "\n",
    "for i in range(2,n+1):\n",
    "    if a[i]:\n",
    "    \tprimes.append(i)\n",
    "    \tfor j in range(2*i, n+1, i):\n",
    "        \ta[j] = False\n",
    "for i in range(len(primes)):\n",
    "    print(primes[i], end=' ')"
   ]
  },
  {
   "cell_type": "markdown",
   "metadata": {},
   "source": [
    "# 3142"
   ]
  },
  {
   "cell_type": "code",
   "execution_count": null,
   "metadata": {},
   "outputs": [],
   "source": [
    "T = int(input())\n",
    "for tc in range(1, T+1):\n",
    "    n, m = map(int, input().split())\n",
    "    for x in range(m+1):\n",
    "        for y in range(m+1):\n",
    "            if 2*x + y == n and x + y == m:\n",
    "                twinhorn = x\n",
    "                unicorn = y\n",
    "    print('#{} {} {}'.format(tc, unicorn, twinhorn))"
   ]
  },
  {
   "cell_type": "markdown",
   "metadata": {},
   "source": [
    "# 3260"
   ]
  },
  {
   "cell_type": "code",
   "execution_count": null,
   "metadata": {},
   "outputs": [],
   "source": [
    "T = int(input())\n",
    "for tc in range(1, T+1):\n",
    "    A, B = map(int, input().split())\n",
    "    result = A + B\n",
    "    print('#{} {}'.format(tc, result))"
   ]
  },
  {
   "cell_type": "markdown",
   "metadata": {},
   "source": [
    "# 3314"
   ]
  },
  {
   "cell_type": "code",
   "execution_count": null,
   "metadata": {},
   "outputs": [],
   "source": [
    "T = int(input())\n",
    "for tc in range(1, T+1):\n",
    "    scores = list(map(int, input().split()))\n",
    "    for i in range(5):\n",
    "        if scores[i] < 40:\n",
    "            scores[i] = 40\n",
    "    sum = 0\n",
    "    for score in scores:\n",
    "        sum += score\n",
    "    print('#{} {}'.format(tc, int(sum/5)))"
   ]
  },
  {
   "cell_type": "markdown",
   "metadata": {},
   "source": [
    "# 3431"
   ]
  },
  {
   "cell_type": "code",
   "execution_count": null,
   "metadata": {},
   "outputs": [],
   "source": [
    "T = int(input())\n",
    "for tc in range(1, T+1):\n",
    "    L, U, X = map(int, input().split())\n",
    "    if X < L:\n",
    "        result = L - X\n",
    "    elif L <= X <= U:\n",
    "        result = 0\n",
    "    elif X > U :\n",
    "        result = -1\n",
    "    print('#{} {}'.format(tc, result))"
   ]
  },
  {
   "cell_type": "markdown",
   "metadata": {},
   "source": [
    "# 3456"
   ]
  },
  {
   "cell_type": "code",
   "execution_count": null,
   "metadata": {},
   "outputs": [],
   "source": [
    "T = int(input())\n",
    "for tc in range(1, T+1):\n",
    "    a, b, c = map(int, input().split())\n",
    "    d = 0\n",
    "    if a == b and b == c:\n",
    "        d = a\n",
    "    else:\n",
    "        if a == b:\n",
    "            d = c\n",
    "        elif a == c:\n",
    "            d = b\n",
    "        elif b == c:\n",
    "            d = a\n",
    "    print('#{} {}'.format(tc, d))"
   ]
  },
  {
   "cell_type": "markdown",
   "metadata": {},
   "source": [
    "# 3499"
   ]
  },
  {
   "cell_type": "code",
   "execution_count": null,
   "metadata": {},
   "outputs": [],
   "source": [
    "T = int(input())\n",
    "for tc in range(1, T+1):\n",
    "    n = int(input())\n",
    "    given = list(map(str, input().split()))\n",
    "    half = int(n / 2)\n",
    "    ans = []\n",
    "    if n % 2 == 0:\n",
    "        given1 = list(given[0: half])\n",
    "        given2 = list(given[half:])\n",
    "    else:\n",
    "        given1 = list(given[0: half])\n",
    "        given2 = list(given[half+1: ])\n",
    "    for i in range(half):\n",
    "        ans.append(given1[i])\n",
    "        ans.append(given2[i])\n",
    "    if n % 2:\n",
    "        ans.append(given[half])\n",
    "    print('#{} '.format(tc), end='')\n",
    "    for i in range(n):\n",
    "        print('{}'.format(ans[i]), end= ' ')\n",
    "    print()"
   ]
  },
  {
   "cell_type": "markdown",
   "metadata": {},
   "source": [
    "# 4047"
   ]
  },
  {
   "cell_type": "code",
   "execution_count": null,
   "metadata": {},
   "outputs": [],
   "source": [
    "T = int(input())\n",
    "for tc in range(1, T+1):\n",
    "    d = input()\n",
    "    c = ['S', 'D', 'H', 'C']\n",
    "    counting = [0, 0, 0, 0]\n",
    "    a = []\n",
    "    result= ''\n",
    "    for i in range(1, int(len(d)/3)+1):\n",
    "        a.append(d[3*(i-1):3*i])\n",
    "    for i in range(len(a)):\n",
    "        if a.count(a[i]) > 1:\n",
    "            result += 'ERROR'\n",
    "            break\n",
    "    if 'ERROR' not in result:\n",
    "        for i in range(len(counting)):\n",
    "            for j in range(len(a)):\n",
    "                if a[j][0] == c[i]:\n",
    "                    counting[i] += 1\n",
    "    cnt = 0\n",
    "    re = []\n",
    "    for i in range(len(counting)):\n",
    "        if 'ERROR' not in result:\n",
    "            cnt = 13 - counting[i]\n",
    "            re.append(cnt)\n",
    "            cnt = 0\n",
    "    print('#{} '.format(tc), end = '')\n",
    "    if result != 'ERROR':\n",
    "        for i in range(len(re)):\n",
    "            print('{} '.format(re[i]), end= '')\n",
    "        print()\n",
    "    else:\n",
    "        print('ERROR')"
   ]
  },
  {
   "cell_type": "markdown",
   "metadata": {},
   "source": [
    "# 4299"
   ]
  },
  {
   "cell_type": "code",
   "execution_count": null,
   "metadata": {},
   "outputs": [],
   "source": [
    "T = int(input())\n",
    "for tc in range(1, T+1):\n",
    "    D, H, M = map(int, input().split())\n",
    "    if D == 11 and H <= 11 and M < 11:\n",
    "        result = -1\n",
    "    elif D == 11 and H < 11:\n",
    "        result = -1\n",
    "    elif H >= 11 and M >= 11:\n",
    "        result = (D - 11) * 1440 + (H - 11) * 60 + M - 11\n",
    "    elif D > 11 and H < 11 and M >= 11:\n",
    "        result = (D - 12) * 1440 + (24 - 11 + H) * 60 + M - 11\n",
    "    elif H >= 11 and M < 11:\n",
    "        result = (D - 11) * 1440 + (H - 12) * 60 + 60 - (11 - M)\n",
    "    elif H < 11 and M < 11:\n",
    "        result = (D - 12) * 1440 + (24 - 12 + H) * 60 + 60 - (11 - M)\n",
    "    print('#{} {}'.format(tc, result))"
   ]
  },
  {
   "cell_type": "markdown",
   "metadata": {},
   "source": [
    "# 4406"
   ]
  },
  {
   "cell_type": "code",
   "execution_count": null,
   "metadata": {},
   "outputs": [],
   "source": [
    "T = int(input())\n",
    "for tc in range(1, T+1):\n",
    "    vowels = 'aeiou'\n",
    "    words = input()\n",
    "    result = ''\n",
    "    for word in words:\n",
    "        if word not in vowels:\n",
    "            result += word\n",
    "    print('#{} {}'.format(tc, result))"
   ]
  },
  {
   "cell_type": "markdown",
   "metadata": {},
   "source": [
    "# 4466"
   ]
  },
  {
   "cell_type": "code",
   "execution_count": null,
   "metadata": {},
   "outputs": [],
   "source": [
    "T = int(input())\n",
    "for tc in range(1, T+1):\n",
    "    N, K = map(int, input().split())\n",
    "    scores = list(map(int, input().split()))\n",
    "    scores.sort(reverse=True)\n",
    "    sum = 0\n",
    "    for i in range(K):\n",
    "        sum += scores[i]\n",
    "    print('#{} {}'.format(tc, sum))    "
   ]
  },
  {
   "cell_type": "markdown",
   "metadata": {},
   "source": [
    "# 4698"
   ]
  },
  {
   "cell_type": "code",
   "execution_count": null,
   "metadata": {},
   "outputs": [],
   "source": [
    "n = 10**6\n",
    "\n",
    "c = [False, False] + [True] * (n - 1)\n",
    "primelist = []\n",
    "\n",
    "for i in range(2, n + 1):\n",
    "    if c[i]:\n",
    "        primelist.append(i)\n",
    "        for j in range(2 * i, n + 1, i):\n",
    "            c[j] = False\n",
    "\n",
    "T = int(input())\n",
    "for tc in range(1, T+1):\n",
    "    d, a, b = map(int, input().split())\n",
    "    cnt = 0\n",
    "    for i in primelist:\n",
    "        if a <= i <= b and str(d) in str(i):\n",
    "            cnt += 1\n",
    "    print('#{} {}'.format(tc, cnt))"
   ]
  },
  {
   "cell_type": "markdown",
   "metadata": {},
   "source": [
    "# 4751"
   ]
  },
  {
   "cell_type": "code",
   "execution_count": null,
   "metadata": {},
   "outputs": [],
   "source": [
    "T = int(input())\n",
    "for tc in range(1, T+1):\n",
    "    words =list(map(str, input()))\n",
    "    for i in range(len(words)):\n",
    "        words[i] = '.' + words[i] + '.'\n",
    "    print1 = '.#'\n",
    "    print2 = '#'\n",
    "    print3 = '#'\n",
    "    print1 = print1 * len(words)\n",
    "    print2 = print2 * 2 * len(words)\n",
    "    print3 = print3 * (len(words) + 1)\n",
    "    print1 = '.'.join(print1) + '..'\n",
    "    print2 = '.' + '.'.join(print2) + '.'\n",
    "    l3 = list(print3)\n",
    "    n = len(l3)\n",
    "    m = len(words)\n",
    "    while m > 0:\n",
    "        for i in range(len(words)):\n",
    "            l3.insert(2*i+1, words[i])\n",
    "            m -= 1\n",
    "    print4 = ''\n",
    "    for i in range(len(l3)):\n",
    "        print4 += l3[i]\n",
    "    print(print1)\n",
    "    print(print2)\n",
    "    print(print4)\n",
    "    print(print2)\n",
    "    print(print1)"
   ]
  },
  {
   "cell_type": "markdown",
   "metadata": {},
   "source": [
    "# 5162"
   ]
  },
  {
   "cell_type": "code",
   "execution_count": null,
   "metadata": {},
   "outputs": [],
   "source": [
    "T = int(input())\n",
    "for tc in range(1, T+1):\n",
    "    A, B, C = map(int, input().split())\n",
    "    total = 0\n",
    "    if A <= B:\n",
    "        total += C // A\n",
    "        if (C % A) >= B:\n",
    "            total += (C % A) // B\n",
    "    else:\n",
    "        total += C // B\n",
    "        if (C % B) >= A:\n",
    "            total += (C % B) // A\n",
    "    print('#{} {}'.format(tc, total))"
   ]
  },
  {
   "cell_type": "markdown",
   "metadata": {},
   "source": [
    "# 5356"
   ]
  },
  {
   "cell_type": "code",
   "execution_count": null,
   "metadata": {},
   "outputs": [],
   "source": [
    "T = int(input())\n",
    "for tc in range(1, T+1):\n",
    "    sero = [list(input()) for _ in range(5)]\n",
    "    max_len = 0\n",
    "    read = ''\n",
    "    for i in range(5):\n",
    "        if len(sero[i]) > max_len:\n",
    "            max_len = len(sero[i])\n",
    "    for i in range(5):\n",
    "        if len(sero[i]) < max_len:\n",
    "            for j in range(max_len-len(sero[i])):\n",
    "                sero[i].append('')\n",
    "    for i in range(max_len):\n",
    "        for j in range(5):\n",
    "            read += sero[j][i]\n",
    "    read = read.strip()\n",
    "    print('#{} {}'.format(tc, read))"
   ]
  },
  {
   "cell_type": "markdown",
   "metadata": {},
   "source": [
    "# 5431"
   ]
  },
  {
   "cell_type": "code",
   "execution_count": null,
   "metadata": {},
   "outputs": [],
   "source": [
    "T = int(input())\n",
    "for tc in range(1, T+1):\n",
    "    N, K = map(int, input().split())\n",
    "    students = [i for i in range(1, N+1)]\n",
    "    submit = list(map(int, input().split()))\n",
    "    for j in range(K):\n",
    "        students.remove(submit[j])\n",
    "    print('#{} '.format(tc), end ='')\n",
    "    for k in range(len(students)):\n",
    "        print(students[k], end= ' ')\n",
    "    print()"
   ]
  },
  {
   "cell_type": "markdown",
   "metadata": {},
   "source": [
    "# 5515"
   ]
  },
  {
   "cell_type": "code",
   "execution_count": null,
   "metadata": {},
   "outputs": [],
   "source": [
    "T = int(input())\n",
    "day_end = [31, 29, 31, 30, 31, 30, 31, 31, 30, 31, 30]\n",
    "mon = [0] * 12\n",
    "day = [4, 5, 6, 0, 1, 2, 3] * 52\n",
    "day.append(4)\n",
    "day.append(5)\n",
    "for i in range(1, len(mon)):\n",
    "    mon[0] = 1\n",
    "    mon[i] = mon[i-1] + day_end[i-1]\n",
    "for tc in range(1, T+1):\n",
    "    m, d = map(int, input().split())\n",
    "    date = mon[m-1]+ d-1\n",
    "    print('#{} {}'.format(tc, day[date-1]))"
   ]
  },
  {
   "cell_type": "markdown",
   "metadata": {},
   "source": [
    "# 5549"
   ]
  },
  {
   "cell_type": "code",
   "execution_count": null,
   "metadata": {},
   "outputs": [],
   "source": [
    "T = int(input())\n",
    "for tc in range(1, T+1):\n",
    "    num = int(input())\n",
    "    if num % 2:\n",
    "        result = 'Odd'\n",
    "    else:\n",
    "        result = 'Even'\n",
    "    print('#{} {}'.format(tc, result))"
   ]
  },
  {
   "cell_type": "markdown",
   "metadata": {},
   "source": [
    "# 5688"
   ]
  },
  {
   "cell_type": "code",
   "execution_count": null,
   "metadata": {},
   "outputs": [],
   "source": [
    "T = int(input())\n",
    "for tc in range(1, T+1):\n",
    "    n = int(input())\n",
    "    i = 1\n",
    "    result = -1\n",
    "    while i <= 10**6:\n",
    "        if i ** 3 != n:\n",
    "            i += 1\n",
    "            continue\n",
    "        else:\n",
    "            result = i\n",
    "            break\n",
    "    print('#{} {}'.format(tc, result))"
   ]
  },
  {
   "cell_type": "markdown",
   "metadata": {},
   "source": [
    "# 5948"
   ]
  },
  {
   "cell_type": "code",
   "execution_count": null,
   "metadata": {},
   "outputs": [],
   "source": [
    "T = int(input())\n",
    "for tc in range(1, T+1):\n",
    "    nums = list(map(int, input().split()))\n",
    "    sum = 0\n",
    "    sums = []\n",
    "    for i in range(5):\n",
    "        sum += nums[i]\n",
    "        for j in range(6):\n",
    "            if j > i:\n",
    "                sum += nums[j]\n",
    "                for k in range(2, 7):\n",
    "                    if k > j:\n",
    "                        sum += nums[k]\n",
    "                        if sum not in sums:\n",
    "                            sums.append(sum)\n",
    "                        sum -= nums[k]\n",
    "                sum -= nums[j]\n",
    "        sum = 0\n",
    "    sums.sort(reverse=True)\n",
    "    print('#{} {}'.format(tc, sums[4]))"
   ]
  },
  {
   "cell_type": "markdown",
   "metadata": {},
   "source": [
    "# 5986"
   ]
  },
  {
   "cell_type": "code",
   "execution_count": null,
   "metadata": {},
   "outputs": [],
   "source": [
    "n = 1000\n",
    "\n",
    "c = [False, False] + [True] * (n - 1)\n",
    "primelist = []\n",
    "\n",
    "for i in range(2, n + 1):\n",
    "    if c[i]:\n",
    "        primelist.append(i)\n",
    "        for j in range(2 * i, n + 1, i):\n",
    "            c[j] = False\n",
    "\n",
    "T = int(input())\n",
    "for tc in range(1, T+1):\n",
    "    N = int(input())\n",
    "    cnt = 0\n",
    "    for x in range(len(primelist)):\n",
    "        for y in range(x, len(primelist)):\n",
    "            for z in range(y, len(primelist)):\n",
    "                if primelist[x] + primelist[y] + primelist[z] == N:\n",
    "                    cnt += 1\n",
    "\n",
    "    print('#{} {}'.format(tc, cnt))"
   ]
  },
  {
   "cell_type": "markdown",
   "metadata": {},
   "source": [
    "# 6692"
   ]
  },
  {
   "cell_type": "code",
   "execution_count": null,
   "metadata": {},
   "outputs": [],
   "source": [
    "T = int(input())\n",
    "for tc in range(1, T+1):\n",
    "    N = int(input())\n",
    "    calculate = []\n",
    "    avg_salary = 0\n",
    "    for i in range(N):\n",
    "        p, x = map(float, input().split())\n",
    "        avg_salary += float(p) * x\n",
    "    print('#{} {}'.format(tc, float(avg_salary)))"
   ]
  },
  {
   "cell_type": "markdown",
   "metadata": {},
   "source": [
    "# 4676"
   ]
  },
  {
   "cell_type": "code",
   "execution_count": null,
   "metadata": {},
   "outputs": [],
   "source": []
  }
 ],
 "metadata": {
  "kernelspec": {
   "display_name": "Python 3",
   "language": "python",
   "name": "python3"
  },
  "language_info": {
   "codemirror_mode": {
    "name": "ipython",
    "version": 3
   },
   "file_extension": ".py",
   "mimetype": "text/x-python",
   "name": "python",
   "nbconvert_exporter": "python",
   "pygments_lexer": "ipython3",
   "version": "3.7.3"
  }
 },
 "nbformat": 4,
 "nbformat_minor": 4
}
