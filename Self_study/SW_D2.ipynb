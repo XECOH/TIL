{
 "cells": [
  {
   "cell_type": "markdown",
   "metadata": {},
   "source": [
    "# 1204"
   ]
  },
  {
   "cell_type": "code",
   "execution_count": null,
   "metadata": {},
   "outputs": [],
   "source": [
    "from collections import Counter\n",
    "\n",
    "t = int(input())\n",
    "for _ in range(1, t+1):\n",
    "    c = int(input())\n",
    "    scores = list(map(int, input().split()))\n",
    "    for i in range(len(scores)):\n",
    "        if 0 <= scores[i] <= 100 and len(scores) == 100:\n",
    "            continue\n",
    "    f_score = Counter(scores).most_common(1)[0][0]\n",
    "    print(f'#{c} {f_score}')"
   ]
  },
  {
   "cell_type": "markdown",
   "metadata": {},
   "source": [
    "# 1284"
   ]
  },
  {
   "cell_type": "code",
   "execution_count": null,
   "metadata": {},
   "outputs": [],
   "source": [
    "t = int(input())\n",
    "\n",
    "for i in range(1, t+1):\n",
    "    water_choices = list(map(int, input().split()))\n",
    "    for j in range(len(water_choices)):\n",
    "        if 1 <= water_choices[j] <= 10000:\n",
    "            continue\n",
    "    A_charge = water_choices[0] * water_choices[4]\n",
    "    if water_choices[4] <= water_choices[2]:\n",
    "        B_charge = water_choices[1]\n",
    "    else:\n",
    "        B_charge = water_choices[1] + ( water_choices[4] - water_choices[2] ) * water_choices[3]\n",
    "    if A_charge > B_charge:\n",
    "        print(f'#{i} {B_charge}')\n",
    "    else:\n",
    "        print(f'#{i} {A_charge}')"
   ]
  },
  {
   "cell_type": "markdown",
   "metadata": {},
   "source": [
    "# 1288"
   ]
  },
  {
   "cell_type": "code",
   "execution_count": null,
   "metadata": {},
   "outputs": [],
   "source": [
    "T = int(input())\n",
    "\n",
    "for i in range(1, T+1):\n",
    "    N = input()\n",
    "    k = 1\n",
    "    result = []\n",
    "    while True:\n",
    "        l = str(k * int(N))\n",
    "        for m in range(len(l)):\n",
    "            if int(l[m]) not in result:\n",
    "                result.append(int(l[m]))\n",
    "                result.sort()\n",
    "        if result == [0, 1, 2, 3, 4, 5, 6, 7, 8, 9]:\n",
    "            res = k * int(N)\n",
    "            break\n",
    "        k += 1\n",
    "    print(f'#{i} {res}')"
   ]
  },
  {
   "cell_type": "markdown",
   "metadata": {},
   "source": [
    "# 1940"
   ]
  },
  {
   "cell_type": "code",
   "execution_count": null,
   "metadata": {},
   "outputs": [],
   "source": [
    "T = int(input())\n",
    "for tc in range(1, T+1):\n",
    "    N = int(input())\n",
    "    acc_lst=[]\n",
    "    v_lst = []\n",
    "    for i in range(N):\n",
    "        acc_lst.append(list(map(int, input().split())))\n",
    "        v = 0\n",
    "    for i in range(len(acc_lst)):\n",
    "        if acc_lst[i][0] == 1:\n",
    "            v = acc_lst[i][1]\n",
    "            v_lst.append(v)\n",
    "        elif acc_lst[i][0] == 2:\n",
    "            v = -(acc_lst[i][1])\n",
    "            v_lst.append(v)\n",
    "        else:\n",
    "            v = 0\n",
    "            v_lst.append(v)\n",
    "    for i in range(1, len(v_lst)):\n",
    "        if v_lst[i-1] < 0 and v_lst[i-1] + v_lst[i] < 0:\n",
    "            v_lst[i-1] = 0\n",
    "        elif v_lst[i] < 0 and v_lst[i-1] + v_lst[i] > 0:\n",
    "            v_lst[i] += v_lst[i-1]\n",
    "        elif v_lst[i] == 0 and v_lst[i-1] > 0:\n",
    "            v_lst[i] += v_lst[i-1]\n",
    "        elif v_lst[i-1] > 0 and v_lst[i] > 0:\n",
    "            v_lst[i] += v_lst[i-1]\n",
    "        elif v_lst[i-1] > 0 and v_lst[i] < 0:\n",
    "            v_lst[i] += v_lst[i-1] \n",
    "    s = 0\n",
    "    for i in range(len(v_lst)):\n",
    "        s += v_lst[i]\n",
    "    print(f'#{tc} {s}')"
   ]
  },
  {
   "cell_type": "markdown",
   "metadata": {},
   "source": [
    "# 1945"
   ]
  },
  {
   "cell_type": "code",
   "execution_count": null,
   "metadata": {},
   "outputs": [],
   "source": [
    "T = int(input())\n",
    "for tc in range(1, T+1):\n",
    "    N = int(input())\n",
    "    a = 0\n",
    "    b = 0\n",
    "    c = 0\n",
    "    d = 0\n",
    "    e = 0\n",
    "    factors = [2, 3, 5, 7, 11]\n",
    "    if 2 <= N <= 10000000:\n",
    "        while N != 1:\n",
    "            if N % 2 == 0:\n",
    "                N /= 2\n",
    "                a += 1\n",
    "            if N % 3 == 0:              \n",
    "                N /= 3\n",
    "                b += 1\n",
    "            if N % 5 == 0:\n",
    "                N /= 5\n",
    "                c += 1\n",
    "            if N % 7 == 0:\n",
    "                N /= 7\n",
    "                d += 1\n",
    "            if N % 11 == 0:\n",
    "                N /= 11\n",
    "                e += 1\n",
    "    print(f'#{tc} {a} {b} {c} {d} {e}')"
   ]
  },
  {
   "cell_type": "markdown",
   "metadata": {},
   "source": [
    "# 1946"
   ]
  },
  {
   "cell_type": "code",
   "execution_count": null,
   "metadata": {},
   "outputs": [],
   "source": [
    "T = int(input())\n",
    "for tc in range(1, T+1):\n",
    "    N = int(input())\n",
    "    t_l = []\n",
    "    result = []\n",
    "    ouput = 0\n",
    "    ans = ''\n",
    "    cnt = 0\n",
    "    ans_10 = []\n",
    "    for i in range(N):\n",
    "        data_input = list(input().split())\n",
    "        t_l.append(data_input)\n",
    "    for i in range(len(t_l)):\n",
    "        output = t_l[i][0] * int(t_l[i][1])\n",
    "        result.append(output)\n",
    "    for i in range(len(result)):\n",
    "        ans += result[i]\n",
    "    \n",
    "    print(f'#{tc}')\n",
    "    for i in range((len(ans)%10)+1):\n",
    "        ans_10.append(ans[10*i:10*i+10])\n",
    "        print(ans_10[i])"
   ]
  },
  {
   "cell_type": "markdown",
   "metadata": {},
   "source": [
    "# 1948"
   ]
  },
  {
   "cell_type": "code",
   "execution_count": null,
   "metadata": {},
   "outputs": [],
   "source": [
    "T = int(input())\n",
    "day_end = [31, 28, 31, 30, 31, 30, 31, 31, 30, 31, 30]\n",
    "mon = [0] * 12\n",
    "result = 0\n",
    "for i in range(1, len(mon)):\n",
    "    mon[0] = 1\n",
    "    mon[i] = mon[i-1] + day_end[i-1]\n",
    "for tc in range(1, T+1):\n",
    "    m1, d1, m2, d2 = list(map(int, input().split()))\n",
    "    s_i = mon[m1-1]+ d1-1\n",
    "    e_i = mon[m2-1]+ d2-1\n",
    "    result = e_i - s_i +1\n",
    "    print(f'#{tc} {result}')"
   ]
  },
  {
   "cell_type": "markdown",
   "metadata": {},
   "source": [
    "# 1954"
   ]
  },
  {
   "cell_type": "code",
   "execution_count": null,
   "metadata": {},
   "outputs": [],
   "source": [
    "T = int(input())\n",
    "for tc in range(1, T+1):\n",
    "    N = int(input())\n",
    "    matrix = [[0 for _ in range(N)] for _ in range(N)]\n",
    "    matrix[0][0] = 1\n",
    "    num = 1\n",
    "    currentr = 0\n",
    "    currentc = 0\n",
    "    dr = [0, 1, 0, -1]\n",
    "    dc = [1, 0, -1, 0]\n",
    "    while num < N**2:\n",
    "        for i in range(4):\n",
    "            nc = currentc + dc[i]\n",
    "            nr = currentr + dr[i]\n",
    "            while 0 <= nr and nr < N and 0 <= nc and nc < N:\n",
    "                if matrix[nr][nc] == 0:\n",
    "                    num += 1\n",
    "                    matrix[nr][nc] = num\n",
    "                    currentc = nc\n",
    "                    currentr = nr\n",
    "                    nc = currentc + dc[i]\n",
    "                    nr = currentr + dr[i]\n",
    "                else:\n",
    "                    break\n",
    "\n",
    "    print('#{}'.format(tc))\n",
    "    for i in range(N):\n",
    "        print('{}'.format(' '.join(map(str, matrix[i]))))"
   ]
  },
  {
   "cell_type": "markdown",
   "metadata": {},
   "source": [
    "# 1959"
   ]
  },
  {
   "cell_type": "code",
   "execution_count": null,
   "metadata": {},
   "outputs": [],
   "source": [
    "T = int(input())\n",
    "for tc in range(1, T+1):\n",
    "    N, M = map(int, input().split())\n",
    "    A = list(map(int, input().split()))\n",
    "    B = list(map(int, input().split()))\n",
    "    maxV = 0\n",
    "    if len(A) < len(B):\n",
    "        for i in range(abs(N-M)+1):\n",
    "            multiple = 0\n",
    "            for j in range(len(A)):\n",
    "                multiple += A[j] * B[j+i]\n",
    "            if multiple > maxV:\n",
    "                maxV = multiple\n",
    "    else:\n",
    "        for i in range(abs(N-M)+1):\n",
    "            multiple = 0\n",
    "            for j in range(len(B)):\n",
    "                multiple += A[j+i] * B[j]\n",
    "            if multiple > maxV:\n",
    "                maxV = multiple\n",
    "    print('#{} {}'.format(tc, maxV))"
   ]
  },
  {
   "cell_type": "markdown",
   "metadata": {},
   "source": [
    "# 1961"
   ]
  },
  {
   "cell_type": "code",
   "execution_count": null,
   "metadata": {},
   "outputs": [],
   "source": [
    "def rot90(list):\n",
    "    n = len(list)\n",
    "    rot_lst = [['0' for _ in range(n)] for _ in range(n)]\n",
    "    for x in range(n):\n",
    "        for y in range(n-1, -1, -1):\n",
    "            rot_lst[x][y] = list[y][x]\n",
    "    for x in range(n):\n",
    "        for y in range(1, int(n/2)+1):\n",
    "            rot_lst[x][y-1], rot_lst[x][-y] = rot_lst[x][-y], rot_lst[x][y-1]\n",
    "    return rot_lst\n",
    "\n",
    "\n",
    "T = int(input())\n",
    "for tc in range(1, T+1):\n",
    "    N = int(input())\n",
    "    matrix = []\n",
    "    for i in range(N):\n",
    "        matrix.append(list(map(str, input().split())))\n",
    "    result1 = ''\n",
    "    result2 = ''\n",
    "    result3 = ''\n",
    "    for i in range(N):\n",
    "        for j in range(N):\n",
    "            result1 += rot90(matrix)[i][j]\n",
    "    for i in range(N):\n",
    "        for j in range(N):\n",
    "            result2 += rot90(rot90(matrix))[i][j]\n",
    "    for i in range(N):\n",
    "        for j in range(N):\n",
    "            result3 += rot90(rot90(rot90(matrix)))[i][j]\n",
    "    print(f'#{tc}')\n",
    "    for i in range(1, N+1):\n",
    "        print(result1[N*(i-1):N*i], result2[N*(i-1):N*i], result3[N*(i-1):N*i])"
   ]
  },
  {
   "cell_type": "markdown",
   "metadata": {},
   "source": [
    "# 1966"
   ]
  },
  {
   "cell_type": "code",
   "execution_count": null,
   "metadata": {},
   "outputs": [],
   "source": [
    "T = int(input())\n",
    "for tc in range(1, T+1):\n",
    "    N = int(input())\n",
    "    lst = list(map(int, input().split()))\n",
    "    lst.sort()\n",
    "    lst_n = []\n",
    "    for n in lst:\n",
    "        n = str(n)\n",
    "        lst_n.append(n)\n",
    "    result = ' '.join(lst_n)\n",
    "    print(f'#{tc} {result}')"
   ]
  },
  {
   "cell_type": "markdown",
   "metadata": {},
   "source": [
    "# 1970"
   ]
  },
  {
   "cell_type": "code",
   "execution_count": null,
   "metadata": {},
   "outputs": [],
   "source": [
    "changes = [50000, 10000, 5000, 1000, 500, 100, 50, 10]\n",
    "T = int(input())\n",
    "for tc in range(1, T+1):\n",
    "    N = int(input())\n",
    "    counting = []\n",
    "    a = 0\n",
    "    remain = N\n",
    "    for change in changes:\n",
    "        a = remain // change\n",
    "        counting.append(a)\n",
    "        if a == 0 :\n",
    "            remain = remain\n",
    "        else:\n",
    "            remain -= change * a\n",
    "    print('#{} '.format(tc))\n",
    "    for i in range(len(counting)):\n",
    "        print('{}'.format(counting[i]), end = ' ')\n",
    "    print()"
   ]
  },
  {
   "cell_type": "markdown",
   "metadata": {},
   "source": [
    "# 1974"
   ]
  },
  {
   "cell_type": "code",
   "execution_count": null,
   "metadata": {},
   "outputs": [],
   "source": [
    "def sdoku(list):\n",
    "    check = [i for i in range(1, 10)]\n",
    "    counting_w = [[0 for _ in range(9)] for _ in range(9)]\n",
    "    counting_h = [[0 for _ in range(9)] for _ in range(9)]\n",
    "    for i in range(9):\n",
    "        for j in range(9):\n",
    "            for k in range(9):\n",
    "                if list[i][j] == check[k]:\n",
    "                    if counting_w[i][k] == 0:\n",
    "                        counting_w[i][k] += 1\n",
    "                    else:\n",
    "                        return 0\n",
    "    for i in range(9):\n",
    "        for j in range(9):\n",
    "            for k in range(9):\n",
    "                if list[j][i] == check[k]:\n",
    "                    if counting_h[i][k] == 0:\n",
    "                        counting_h[i][k] += 1\n",
    "                    else:\n",
    "                        return 0\n",
    "\n",
    "    for i in range(3):\n",
    "        for j in range(3):\n",
    "            counting_c = [0 for _ in range(9)]\n",
    "            for k in range(3):\n",
    "                for l in range(3):\n",
    "                    for m in range(9):\n",
    "                        if list[3*i+k][3*j+l] == check[m]:\n",
    "                            if counting_c[m] == 0:\n",
    "                                counting_c[m] += 1\n",
    "                            else:\n",
    "                                return 0\n",
    "    return 1\n",
    "\n",
    "T = int(input())\n",
    "for tc in range(1, T+1):\n",
    "    puzzle = []\n",
    "    for i in range(9):\n",
    "        puzzle.append(list(map(int, input().split())))\n",
    "    sdoku(puzzle)\n",
    "    print('#{} {}'.format(tc, sdoku(puzzle)))"
   ]
  },
  {
   "cell_type": "markdown",
   "metadata": {},
   "source": [
    "# 1976"
   ]
  },
  {
   "cell_type": "code",
   "execution_count": null,
   "metadata": {},
   "outputs": [],
   "source": [
    "T = int(input())\n",
    "for tc in range(1, T+1):\n",
    "    clock = list(map(int, input().split()))\n",
    "    h = 0\n",
    "    m = 0\n",
    "    if clock[1] + clock[3] >= 60:\n",
    "        m = clock[1] + clock[3] - 60\n",
    "        h = clock[0] + clock[2] + 1\n",
    "        if h > 12:\n",
    "            h -= 12\n",
    "    else:\n",
    "        m = clock[1] + clock[3]\n",
    "        h = clock[0] + clock[2]\n",
    "        if h > 12:\n",
    "            h -= 12\n",
    "    print(f'#{tc} {h} {m}')"
   ]
  },
  {
   "cell_type": "markdown",
   "metadata": {},
   "source": [
    "# 1979"
   ]
  },
  {
   "cell_type": "code",
   "execution_count": null,
   "metadata": {},
   "outputs": [],
   "source": [
    "T= int(input())\n",
    "for tc in range(1, T+1):\n",
    "    n, m = map(int, input().split())\n",
    "    matrix = []\n",
    "    for i in range(n):\n",
    "        matrix.append(list(map(int, input().split())))\n",
    "    dr = []\n",
    "    dc = []\n",
    "    for i in range(m):\n",
    "        dr.append(i+1)\n",
    "        dc.append(i+1)\n",
    "    cnt = 0\n",
    "    for i in range(n):\n",
    "        for j in range(n):\n",
    "            if matrix[i][j] == 1:\n",
    "                cnt1 = 1\n",
    "                if j == 0:\n",
    "                    for k in range(len(dc)):\n",
    "                        nc = j + dc[k]\n",
    "                        if 0 <= nc < n:\n",
    "                            if matrix[i][nc] == 1:\n",
    "                                cnt1 += 1\n",
    "                            else:\n",
    "                                break\n",
    "                        else:\n",
    "                            break\n",
    "                    if cnt1 == m:\n",
    "                        cnt += 1\n",
    "                else:\n",
    "                    if matrix[i][j-1] != 1:\n",
    "                        for k in range(len(dc)):\n",
    "                            nc = j + dc[k]\n",
    "                            if 0 <= nc < n:\n",
    "                                if matrix[i][nc] == 1:\n",
    "                                    cnt1 += 1\n",
    "                                else:\n",
    "                                    break\n",
    "                            else:\n",
    "                                break\n",
    "                        if cnt1 == m:\n",
    "                            cnt += 1\n",
    "\n",
    "    for i in range(n):\n",
    "        for j in range(n):\n",
    "            if matrix[j][i] == 1:\n",
    "                cnt2 = 1\n",
    "                if j == 0:\n",
    "                    for k in range(len(dr)):\n",
    "                        nr = j + dr[k]\n",
    "                        if 0 <= nr < n:\n",
    "                            if matrix[nr][i] == 1:\n",
    "                                cnt2 += 1\n",
    "                            else:\n",
    "                                break\n",
    "                        else:\n",
    "                            break\n",
    "                    if cnt2 == m:\n",
    "                        cnt += 1\n",
    "                else:\n",
    "                    if matrix[j-1][i] != 1:\n",
    "                        for k in range(len(dr)):\n",
    "                            nr = j + dr[k]\n",
    "                            if 0 <= nr < n:\n",
    "                                if matrix[nr][i] == 1:\n",
    "                                    cnt2 += 1\n",
    "                                else:\n",
    "                                    break\n",
    "                            else:\n",
    "                                break\n",
    "                        if cnt2 == m:\n",
    "                            cnt += 1\n",
    "    print('#{} {}'.format(tc, cnt))"
   ]
  },
  {
   "cell_type": "markdown",
   "metadata": {},
   "source": [
    "# 1983"
   ]
  },
  {
   "cell_type": "code",
   "execution_count": null,
   "metadata": {},
   "outputs": [],
   "source": [
    "T = int(input())\n",
    "for tc in range(1, T+1):\n",
    "    que = list(map(int, input().split()))\n",
    "    students = []\n",
    "    n = que[0]\n",
    "    m = int(n/10)\n",
    "    degrees = [10, 9, 8, 7, 6, 5, 4, 3, 2, 1] * m\n",
    "    degrees.sort(reverse=True)\n",
    "    for i in range(len(degrees)):\n",
    "        if degrees[i] == 10:\n",
    "            degrees[i] = 'A+'\n",
    "        if degrees[i] == 9:\n",
    "            degrees[i] = 'A0'\n",
    "        if degrees[i] == 8:\n",
    "            degrees[i] = 'A-'\n",
    "        if degrees[i] == 7:\n",
    "            degrees[i] = 'B+'\n",
    "        if degrees[i] == 6:\n",
    "            degrees[i] = 'B0'\n",
    "        if degrees[i] == 5:\n",
    "            degrees[i] = 'B-'\n",
    "        if degrees[i] == 4:\n",
    "            degrees[i] = 'C+'\n",
    "        if degrees[i] == 3:\n",
    "            degrees[i] = 'C0'\n",
    "        if degrees[i] == 2:\n",
    "            degrees[i] = 'C-'\n",
    "        if degrees[i] == 1:\n",
    "            degrees[i] = 'D0'\n",
    "    for i in range(n):\n",
    "        students.append(list(map(int, input().split())))\n",
    "    result = []\n",
    "    n_result = []\n",
    "    for student in students:\n",
    "        result.append(student[0]*0.35 + student[1]*0.45 + student[2]*0.2)\n",
    "        n_result.append(student[0]*0.35 + student[1]*0.45 + student[2]*0.2)\n",
    "    n_result.sort(reverse=True)\n",
    "    li = 0\n",
    "    for i in range(n):\n",
    "        if result[que[1]-1] == n_result[i]:\n",
    "            li = i\n",
    "    print(f'#{tc} {degrees[li]}')"
   ]
  },
  {
   "cell_type": "markdown",
   "metadata": {},
   "source": [
    "# 1984"
   ]
  },
  {
   "cell_type": "code",
   "execution_count": null,
   "metadata": {},
   "outputs": [],
   "source": [
    "T = int(input())\n",
    "for tc in range(1, T+1):\n",
    "    lst = list(map(int, input().split()))\n",
    "    l_max = max(lst)\n",
    "    l_min = min(lst)\n",
    "    lst.remove(l_max)\n",
    "    lst.remove(l_min)\n",
    "    sum = 0\n",
    "    avg = 0\n",
    "    for n in lst:\n",
    "        sum += n\n",
    "        avg = round(sum/len(lst))\n",
    "\n",
    "    print(f'#{tc} {avg}')"
   ]
  },
  {
   "cell_type": "markdown",
   "metadata": {},
   "source": [
    "# 1986"
   ]
  },
  {
   "cell_type": "code",
   "execution_count": null,
   "metadata": {},
   "outputs": [],
   "source": [
    "T = int(input())\n",
    "for tc in range(1, T+1):\n",
    "    N = int(input())\n",
    "    lst = list(range(1, N+1))\n",
    "    for n in range(1, len(lst)):\n",
    "        if lst[n] % 2 == 0:\n",
    "            lst[n] *= -1\n",
    "    sum = 0\n",
    "    for n in lst:\n",
    "        sum += n\n",
    "    print(f'#{tc} {sum}')"
   ]
  },
  {
   "cell_type": "markdown",
   "metadata": {},
   "source": [
    "# 1989"
   ]
  },
  {
   "cell_type": "code",
   "execution_count": null,
   "metadata": {},
   "outputs": [],
   "source": [
    "T = int(input())\n",
    "def is_palindrome(word):\n",
    "    for i in range(1, round(len(word)/2)):\n",
    "        if word[i-1] == word[-i]:\n",
    "            return 1\n",
    "    return 0\n",
    "for tc in range(1, T+1):\n",
    "    word = input()\n",
    "    print(f'#{tc} {is_palindrome(word)}')"
   ]
  },
  {
   "cell_type": "markdown",
   "metadata": {},
   "source": [
    "# 2001"
   ]
  },
  {
   "cell_type": "code",
   "execution_count": null,
   "metadata": {},
   "outputs": [],
   "source": [
    "T = int(input())\n",
    "for tc in range(1, T+1):\n",
    "    N, M = map(int, input().split())\n",
    "    matrix = []\n",
    "    for i in range(N):\n",
    "        matrix.append(list(map(int, input().split())))\n",
    "    max_sum = 0\n",
    "    for i in range(N-M+1):\n",
    "        for j in range(N-M+1):\n",
    "            sum = 0\n",
    "            for k in range(M):\n",
    "                for l in range(M):\n",
    "                    sum += matrix[i+k][j+l]\n",
    "            if sum > max_sum:\n",
    "                max_sum = sum\n",
    "    print('#{} {}'.format(tc, max_sum))"
   ]
  },
  {
   "cell_type": "markdown",
   "metadata": {},
   "source": [
    "# 2005"
   ]
  },
  {
   "cell_type": "code",
   "execution_count": null,
   "metadata": {},
   "outputs": [],
   "source": [
    "T = int(input())\n",
    "for tc in range(1, T+1):\n",
    "    N = int(input())\n",
    "    triangle = [[] for _ in range(N)]\n",
    "    for i in range(N):\n",
    "        triangle[i].append(1)\n",
    "    for i in range(1, N):\n",
    "        triangle[i].append(1)\n",
    "    for i in range(2, N):\n",
    "        for j in range(1, len(triangle[i-1])):\n",
    "            sum = triangle[i-1][j-1] + triangle[i-1][j]\n",
    "            triangle[i].insert(j, sum)\n",
    "    print('#{}'.format(tc))\n",
    "    for row in triangle:\n",
    "        print(' '.join(map(str,row)))"
   ]
  },
  {
   "cell_type": "markdown",
   "metadata": {},
   "source": [
    "# 2007"
   ]
  },
  {
   "cell_type": "code",
   "execution_count": null,
   "metadata": {},
   "outputs": [],
   "source": [
    "T = int(input())\n",
    "for tc in range(1, T+1):\n",
    "    word = input()\n",
    "    cnt = 1\n",
    "    stan = word[0]\n",
    "    for i in range(1, len(word)):\n",
    "        if stan == word[i]:\n",
    "            if word[0:i+1] != word[i:2*i+1]:\n",
    "                continue\n",
    "            else:\n",
    "                cnt = i\n",
    "                break\n",
    "    print(f'#{tc} {cnt}')"
   ]
  },
  {
   "cell_type": "markdown",
   "metadata": {},
   "source": [
    "# 1926"
   ]
  },
  {
   "cell_type": "code",
   "execution_count": null,
   "metadata": {},
   "outputs": [],
   "source": [
    "N = int(input())\n",
    "lst_N = []\n",
    "clap_N = [0] * N\n",
    "check_369 = ['3', '6', '9']\n",
    "result = [0] * N\n",
    "if 10 <= N <= 1000:\n",
    "    for i in range(1, N+1):\n",
    "        lst_N.append(i)\n",
    "    for i in range(len(lst_N)):\n",
    "        cnt = 0\n",
    "        for j in range(len(str(lst_N[i]))):\n",
    "            if str(lst_N[i])[j] in check_369:\n",
    "                cnt += 1\n",
    "                clap_N[i] = cnt\n",
    "    for i in range(N):\n",
    "        if clap_N[i] != 0:\n",
    "            result[i] = '-' * clap_N[i]\n",
    "        else:\n",
    "            result[i] = lst_N[i]\n",
    "for i in range(len(result)):\n",
    "    print(result[i], end=' ')"
   ]
  },
  {
   "cell_type": "markdown",
   "metadata": {},
   "source": [
    "# 1859"
   ]
  },
  {
   "cell_type": "code",
   "execution_count": null,
   "metadata": {},
   "outputs": [],
   "source": [
    "# 푸는중..."
   ]
  }
 ],
 "metadata": {
  "kernelspec": {
   "display_name": "Python 3",
   "language": "python",
   "name": "python3"
  },
  "language_info": {
   "codemirror_mode": {
    "name": "ipython",
    "version": 3
   },
   "file_extension": ".py",
   "mimetype": "text/x-python",
   "name": "python",
   "nbconvert_exporter": "python",
   "pygments_lexer": "ipython3",
   "version": "3.7.3"
  }
 },
 "nbformat": 4,
 "nbformat_minor": 4
}
