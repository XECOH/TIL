{
 "cells": [
  {
   "cell_type": "markdown",
   "metadata": {},
   "source": [
    "# 5658"
   ]
  },
  {
   "cell_type": "code",
   "execution_count": null,
   "metadata": {},
   "outputs": [],
   "source": [
    "for tc in range(int(input())):\n",
    "    n, k = map(int, input().split())\n",
    "    six = input()\n",
    "    ans = []\n",
    "    for i in range(n//4):\n",
    "        for j in range(0, n, n//4):\n",
    "            if six[j+(n*i):j+(n*i)+(n//4)] not in ans:\n",
    "                ans.append(six[j+(n*i):j+(n*i)+(n//4)])\n",
    "        six += six[i+1:n] + six[0:i+1]\n",
    "    result = [int(i, 16) for i in ans]\n",
    "    result.sort(reverse = True)\n",
    "    print('#{} {}'.format(tc+1, result[k-1]))"
   ]
  },
  {
   "cell_type": "markdown",
   "metadata": {},
   "source": [
    "# 4013"
   ]
  },
  {
   "cell_type": "code",
   "execution_count": null,
   "metadata": {},
   "outputs": [],
   "source": [
    "for tc in range(1, int(input())+1):\n",
    "    k = int(input())\n",
    "    magnets = [[0]*9]+[[0]+list(map(int, input().split())) for _  in range(4)]\n",
    "    rotation = [0]*5\n",
    "    for _ in range(k):\n",
    "        m, r = map(int, input().split())\n",
    "        rotation[m] = r\n",
    "        i = 0\n",
    "        while i < 3:\n",
    "            if m+i+1 < 5 and magnets[m+i][3] != magnets[m+i+1][7] and rotation[m+i] != 0:\n",
    "                rotation[m+i+1] = -rotation[m+i]\n",
    "            if 0 < m-i-1 and magnets[m-i][7] != magnets[m-i-1][3] and rotation[m-i] != 0:\n",
    "                rotation[m-i-1] = -rotation[m-i]\n",
    "            i += 1\n",
    "        for i in range(1, 5):\n",
    "            if rotation[i] != 0:\n",
    "                if rotation[i] == 1:\n",
    "                    st = magnets[i].pop()\n",
    "                    magnets[i].insert(1, st)\n",
    "                else:\n",
    "                    st = magnets[i].pop(1)\n",
    "                    magnets[i].append(st)\n",
    "        rotation = [0]*5\n",
    "    point = 0\n",
    "    for j in range(1, 5):\n",
    "        point += (magnets[j][1] * (2**(j-1)))\n",
    "    print('#{} {}'.format(tc, point))"
   ]
  }
 ],
 "metadata": {
  "kernelspec": {
   "display_name": "Python 3",
   "language": "python",
   "name": "python3"
  },
  "language_info": {
   "codemirror_mode": {
    "name": "ipython",
    "version": 3
   },
   "file_extension": ".py",
   "mimetype": "text/x-python",
   "name": "python",
   "nbconvert_exporter": "python",
   "pygments_lexer": "ipython3",
   "version": "3.7.3"
  }
 },
 "nbformat": 4,
 "nbformat_minor": 4
}
