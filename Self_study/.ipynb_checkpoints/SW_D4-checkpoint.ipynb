{
 "cells": [
  {
   "cell_type": "markdown",
   "metadata": {},
   "source": [
    "# 1258"
   ]
  },
  {
   "cell_type": "code",
   "execution_count": null,
   "metadata": {},
   "outputs": [],
   "source": [
    "for tc in range(int(input())):\n",
    "    rl = list()\n",
    "    n = int(input())\n",
    "    cont = [list(map(int, input().split())) for _ in range(n)]\n",
    "    for i in range(n):\n",
    "        r = 0\n",
    "        for j in range(n):\n",
    "            if cont[j][i] != 0:\n",
    "                r += 1\n",
    "                if (j+1 <n and cont[j+1][i] == 0) or j+1 == n:\n",
    "                    rl.append(r)\n",
    "                    r = 0\n",
    "            elif cont[j][i] == 0:\n",
    "                continue\n",
    "    cnt = [0] * (max(rl)+1)\n",
    "    for r in rl:\n",
    "        for c in range(max(rl)+1):\n",
    "            if r == c:\n",
    "                cnt[c] += 1\n",
    "    rl = list(set(rl))\n",
    "    ans = list()\n",
    "    for r in rl:\n",
    "        if cnt[r] != 0:\n",
    "            ans.append([r, cnt[r]])\n",
    "    ans.sort(key = lambda x: x[0] * x[1])\n",
    "    print('#{} {} '.format(tc+1, len(ans)), end = '')\n",
    "    for i in range(len(ans)):\n",
    "        print('{} {}'.format(ans[i][0], ans[i][1]), end= ' ')"
   ]
  },
  {
   "cell_type": "markdown",
   "metadata": {},
   "source": [
    "# 1486"
   ]
  },
  {
   "cell_type": "code",
   "execution_count": null,
   "metadata": {},
   "outputs": [],
   "source": [
    "for tc in range(int(input())):\n",
    "    n, b = map(int, input().split())\n",
    "    h = list(map(int, input().split()))\n",
    "    diff = 10000\n",
    "    for i in range(1<<n):\n",
    "        sum = 0\n",
    "        for j in range(n):\n",
    "            if i&(1<<j):\n",
    "                sum += h[j]\n",
    "        if b <= sum and sum-b < diff:\n",
    "            diff = sum-b\n",
    "    print('#{} {}'.format(tc+1, diff))"
   ]
  },
  {
   "cell_type": "markdown",
   "metadata": {},
   "source": [
    "# 5432"
   ]
  },
  {
   "cell_type": "code",
   "execution_count": null,
   "metadata": {},
   "outputs": [],
   "source": [
    "for tc in range(int(input())):\n",
    "    iron = input()\n",
    "    cnt = 0\n",
    "    st = []\n",
    "    i = 0\n",
    "    while i < len(iron):\n",
    "        if iron[i] =='(' and iron[i+1] == ')' and st != []:\n",
    "            cnt += len(st)\n",
    "            i += 1\n",
    "        elif iron[i] =='(' and iron[i+1] != ')':\n",
    "            st.append(iron[i])\n",
    "            cnt += 1\n",
    "        elif iron[i] == ')' and st != []:\n",
    "            st.pop()\n",
    "        i += 1\n",
    "    print('#{} {}'.format(tc+1, cnt))"
   ]
  },
  {
   "cell_type": "markdown",
   "metadata": {},
   "source": [
    "# 7701"
   ]
  },
  {
   "cell_type": "code",
   "execution_count": null,
   "metadata": {},
   "outputs": [],
   "source": [
    "for tc in range(int(input())):\n",
    "    n = int(input())\n",
    "    names = set()\n",
    "    for i in range(n):\n",
    "        names.add(input())\n",
    "    names = list(names)\n",
    "    names.sort(key = lambda x: (len(x), x))\n",
    "    print('#{}'.format(tc+1))\n",
    "    for name in names:\n",
    "        print('{}'.format(name))"
   ]
  },
  {
   "cell_type": "markdown",
   "metadata": {},
   "source": [
    "# 4408"
   ]
  },
  {
   "cell_type": "code",
   "execution_count": null,
   "metadata": {},
   "outputs": [],
   "source": [
    "for tc in range(1, int(input())+1):\n",
    "    n = int(input())\n",
    "    rooms = [0] * 200\n",
    "    for i in range(n):\n",
    "        cr, mr = map(int, input().split())\n",
    "        if cr % 2:\n",
    "            cr = (cr//2)\n",
    "        else:\n",
    "            cr = (cr//2)-1\n",
    "        if mr % 2:\n",
    "            mr = (mr//2)\n",
    "        else:\n",
    "            mr = (mr//2)-1\n",
    "        for c in range(min(cr, mr), max(cr, mr)+1):\n",
    "            rooms[c] += 1\n",
    "    print('#{} {}'.format(tc, max(rooms)))"
   ]
  },
  {
   "cell_type": "markdown",
   "metadata": {},
   "source": [
    "# 3347"
   ]
  },
  {
   "cell_type": "code",
   "execution_count": null,
   "metadata": {},
   "outputs": [],
   "source": [
    "for tc in range(1, int(input())+1):\n",
    "    n, m = map(int, input().split())\n",
    "    a = list(map(int, input().split()))\n",
    "    b = list(map(int, input().split()))\n",
    "    cnt = [0] * n\n",
    "    for i in range(m):\n",
    "        j = 0\n",
    "        while j < n:\n",
    "            if b[i] >= a[j]:\n",
    "                cnt[j] += 1\n",
    "                break\n",
    "            j += 1\n",
    "    print('#{} {}'.format(tc, cnt.index(max(cnt))+1))"
   ]
  },
  {
   "cell_type": "markdown",
   "metadata": {},
   "source": [
    "# 1223"
   ]
  },
  {
   "cell_type": "code",
   "execution_count": null,
   "metadata": {},
   "outputs": [],
   "source": [
    "def icp(t): #스택에 넣을 때\n",
    "    if t =='*':\n",
    "        return 2\n",
    "    else:\n",
    "        return 1\n",
    "\n",
    "def isp(t): # 스택안에\n",
    "    if t == '*':\n",
    "        return 2\n",
    "    else:\n",
    "        return 1\n",
    "\n",
    "def operation(arr):\n",
    "    op = ['*', '+']\n",
    "    st = []\n",
    "    for c in arr:\n",
    "        if c not in op:\n",
    "            st. append(c)\n",
    "        else:\n",
    "            if c == '*':\n",
    "                op1= st.pop()\n",
    "                op2= st.pop()\n",
    "                st.append(op1*op2)\n",
    "            else:\n",
    "                op1 = st.pop()\n",
    "                op2 = st.pop()\n",
    "                st.append(op1+op2)\n",
    "    return st[0]\n",
    "\n",
    "for tc in range(1, 2):\n",
    "    l = int(input())\n",
    "    c = list(map(str, input()))\n",
    "    operator = ['*', '+']\n",
    "    postfix = []\n",
    "    st = []\n",
    "    for i in c:\n",
    "        if i not in operator:\n",
    "            postfix.append(int(i))\n",
    "        else:\n",
    "            if st == []:\n",
    "                st.append(i)\n",
    "            else:\n",
    "                top = st[-1]\n",
    "                if icp(i) > isp(top):\n",
    "                    st.append(i)\n",
    "                elif icp(i) == isp(top):\n",
    "                    postfix.append(st.pop())\n",
    "                    st.append(i)\n",
    "                else:\n",
    "                    while st:\n",
    "                        top = st[-1]\n",
    "                        if isp(top) < icp(i):\n",
    "                            break\n",
    "                        else:\n",
    "                            postfix.append(st.pop())\n",
    "                    st.append(i)    \n",
    "    while st:\n",
    "        postfix.append(st.pop())\n",
    "    print('#{} {}'. format(tc, operation(postfix)))"
   ]
  },
  {
   "cell_type": "markdown",
   "metadata": {},
   "source": [
    "# 1222"
   ]
  },
  {
   "cell_type": "code",
   "execution_count": null,
   "metadata": {},
   "outputs": [],
   "source": [
    "def icp(t): #스택에 넣을 때\n",
    "    return 1\n",
    "\n",
    "def isp(t): # 스택안에\n",
    "    return 1\n",
    "\n",
    "def operation(arr):\n",
    "    op = ['+']\n",
    "    st = []\n",
    "    for c in arr:\n",
    "        if c not in op:\n",
    "            st. append(c)\n",
    "        else:\n",
    "            op1 = st.pop()\n",
    "            op2 = st.pop()\n",
    "            st.append(op1+op2)\n",
    "    return st[0]\n",
    "\n",
    "for tc in range(1, 11):\n",
    "    l = int(input())\n",
    "    c = list(map(str, input()))\n",
    "    operator = ['+']\n",
    "    postfix = []\n",
    "    st = []\n",
    "    for i in c:\n",
    "        if i not in operator:\n",
    "            postfix.append(int(i))\n",
    "        else:\n",
    "            if st == []:\n",
    "                st.append(i)\n",
    "            else:\n",
    "                top = st[-1]\n",
    "                if icp(i) > isp(top):\n",
    "                    st.append(i)\n",
    "                elif icp(i) == isp(top):\n",
    "                    postfix.append(st.pop())\n",
    "                    st.append(i)\n",
    "                else:\n",
    "                    while st:\n",
    "                        top = st[-1]\n",
    "                        if isp(top) < icp(i):\n",
    "                            break\n",
    "                        else:\n",
    "                            postfix.append(st.pop())\n",
    "                    st.append(i)    \n",
    "    while st:\n",
    "        postfix.append(st.pop())\n",
    "    print('#{} {}'. format(tc, operation(postfix)))"
   ]
  },
  {
   "cell_type": "markdown",
   "metadata": {},
   "source": [
    "# 1227"
   ]
  },
  {
   "cell_type": "code",
   "execution_count": null,
   "metadata": {},
   "outputs": [],
   "source": [
    "def miro(i, j):\n",
    "    dr = [-1, 0, 1, 0]\n",
    "    dc = [0, 1, 0, -1]\n",
    "    st = [[i, j]]\n",
    "    while st:\n",
    "        [ci, cj] = st.pop()\n",
    "        for k in range(4):\n",
    "            nr = ci + dr[k]\n",
    "            nc = cj + dc[k]\n",
    "            if nr < 0 or nr >= 100 or nc < 0 or nc >= 100: continue\n",
    "            if maze[nr][nc] == 1: continue\n",
    "            if maze[nr][nc] == 3: return 1\n",
    "            if maze[nr][nc] == 9: continue\n",
    "            maze[nr][nc] = 9\n",
    "            st.append([nr, nc])\n",
    "    return 0\n",
    "\n",
    "for tc in range(1, 2):\n",
    "    n = int(input())\n",
    "    maze = [list(map(int, input())) for _ in range(100)]\n",
    "    for i in range(100):\n",
    "        sr, sc= -1, -1\n",
    "        for j in range(100):\n",
    "            if maze[i][j] == 2:\n",
    "                sr = i\n",
    "                sc = j\n",
    "                break\n",
    "        if sr != -1 and sc != -1: break\n",
    "    print('#{} {}'.format(tc, miro(sr, sc)))"
   ]
  },
  {
   "cell_type": "markdown",
   "metadata": {},
   "source": [
    "# 4672"
   ]
  },
  {
   "cell_type": "code",
   "execution_count": null,
   "metadata": {},
   "outputs": [],
   "source": [
    "for tc in range(1, int(input())+1):\n",
    "    words = list(input())\n",
    "    combi = sorted(list(set([(words[i], words.count(words[i])) for i in range(len(words))])), key = lambda x: x[1], reverse = True)\n",
    "    nwords = []\n",
    "    for i in range(len(combi)):\n",
    "        if combi[i][1] % 2 and combi[i][1] >= 2:\n",
    "            for _ in range(combi[i][1]):\n",
    "                nwords.insert(len(nwords)//2, combi[i][0])\n",
    "        elif combi[i][1] % 2 == 0:\n",
    "            t = combi[i][1]\n",
    "            while t > 0:\n",
    "                nwords.insert(0, combi[i][0])\n",
    "                nwords.append(combi[i][0])\n",
    "                t -= 2\n",
    "    sum = len(words)\n",
    "    for i in range(len(nwords)-1):\n",
    "        temp = ''\n",
    "        temp += nwords[i]\n",
    "        for j in range(i+1, len(nwords)):\n",
    "            temp += nwords[j]\n",
    "            if temp == temp[::-1]: sum += 1\n",
    "    print('#{} {}'.format(tc, sum))"
   ]
  },
  {
   "cell_type": "markdown",
   "metadata": {},
   "source": [
    "# 1210"
   ]
  },
  {
   "cell_type": "code",
   "execution_count": null,
   "metadata": {},
   "outputs": [],
   "source": [
    "def search(r, c):\n",
    "    dr = [0, 0, -1]\n",
    "    dc = [1, -1, 0]\n",
    "    visited = [[0 for i in range(N)] for j in range(N)]\n",
    "    num = arr[r][c]\n",
    "\n",
    "    while True:\n",
    "        if r == 0: return c\n",
    "        for k in range(3):\n",
    "            nr = r + dr[k]\n",
    "            nc = c + dc[k]\n",
    "            if nr < 0 or nr >= N or nc < 0 or nc >= N: continue\n",
    "            if visited[nr][nc] == 1: continue\n",
    "            if arr[nr][nc] == 0: continue\n",
    "            r = nr\n",
    "            c = nc\n",
    "            visited[nr][nc] = 1\n",
    "            num = arr[nr][nc]\n",
    "            break\n",
    "\n",
    "T = 10\n",
    "for tc in range(1, T+1):\n",
    "    t = int(input())\n",
    "    N = 100\n",
    "    arr = [list(map(int, input().split())) for _ in range(N)]\n",
    "    for i in range(N):\n",
    "        if arr[99][i] == 2:\n",
    "            sp = search(99, i)\n",
    "\n",
    "    print('#{} {}'.format(tc, sp))"
   ]
  },
  {
   "cell_type": "markdown",
   "metadata": {},
   "source": [
    "# 1226"
   ]
  },
  {
   "cell_type": "code",
   "execution_count": null,
   "metadata": {},
   "outputs": [],
   "source": [
    "def miro(sr, sc, n):\n",
    "    global maze\n",
    "    dr = [-1, 1, 0, 0]\n",
    "    dc = [0, 0, -1, 1]\n",
    "    visited = list()\n",
    "    if maze[sr][sc] == 3: return 1\n",
    "    visited.append(sr)\n",
    "    visited.append(sc)\n",
    "    while visited:\n",
    "        sr = visited.pop(0)\n",
    "        sc = visited.pop(0)\n",
    "        if maze[sr][sc] == 9: continue\n",
    "        maze[sr][sc] = 9\n",
    "        for k in range(4):\n",
    "            nr = sr + dr[k]\n",
    "            nc = sc + dc[k]\n",
    "            if 0 > nr or nr > n or nc < 0 or nc > n: continue\n",
    "            if maze[nr][nc] == 1: continue\n",
    "            if maze[nr][nc] == 3: return 1\n",
    "            if maze[nr][nc] == 9: continue\n",
    "            if maze[nr][nc] == 0:\n",
    "                visited.append(nr)\n",
    "                visited.append(nc)\n",
    "    return 0\n",
    "T = int(input())\n",
    "for tc in range(1, T+1):\n",
    "    n = int(input())\n",
    "    maze = [list(map(int, input())) for _ in range(n)]\n",
    "    for i in range(n):\n",
    "        for j in range(n):\n",
    "            if maze[i][j] == 2:\n",
    "                sr = i\n",
    "                sc = j\n",
    "    print('#{} {}'.format(tc, miro(sr, sc, n)))"
   ]
  },
  {
   "cell_type": "markdown",
   "metadata": {},
   "source": [
    "# 1224"
   ]
  },
  {
   "cell_type": "code",
   "execution_count": null,
   "metadata": {},
   "outputs": [],
   "source": [
    "def operate(input_data, output_data):\n",
    "    operator = ['*', '+']\n",
    "    for i in input_data:\n",
    "        if i not in operator:\n",
    "            output_data.append(int(i))\n",
    "        elif i in operator:\n",
    "            if len(input_data) >= 2:\n",
    "                if i == '+':\n",
    "                    op1 = output_data.pop()\n",
    "                    op2 = output_data.pop()\n",
    "                    output_data.append(op2 + op1)\n",
    "                elif i == '*':\n",
    "                    op1 = output_data.pop()\n",
    "                    op2 = output_data.pop()\n",
    "                    output_data.append(op2 * op1)\n",
    "    return output_data.pop()\n",
    "\n",
    "def is_number(x): # 숫자인지\n",
    "    if x != '*' and x != '(' and x != ')' and x != '+':\n",
    "        return True\n",
    "    else:\n",
    "        return False\n",
    "\n",
    "def isp(token): # 스택의 top연산자 우선순위\n",
    "    if token == '(':\n",
    "        return 0\n",
    "    elif token == '+':\n",
    "        return 1\n",
    "    elif token == '*':\n",
    "        return 2\n",
    "\n",
    "def icp(token): # 스택으로 들어갈 연산자 우선 순위\n",
    "    if token == '(':\n",
    "        return 3\n",
    "    elif token == '+':\n",
    "        return 1\n",
    "    elif token == '*':\n",
    "        return 2\n",
    "\n",
    "for tc in range(1, 11):\n",
    "    l = int(input())\n",
    "    infix = list(input())\n",
    "    postfix = list()\n",
    "    st = list()\n",
    "    ans = list()\n",
    "    for i in infix:\n",
    "        if is_number(i):\n",
    "            postfix.append(i)\n",
    "        elif is_number(i) == False and st == []:\n",
    "            st.append(i)\n",
    "        elif i == ')':\n",
    "            while st[-1] != '(':\n",
    "                postfix.append(st.pop())\n",
    "            st.pop()\n",
    "        elif is_number(i) == False and isp(st[-1]) < icp(i):\n",
    "            st.append(i)\n",
    "        elif is_number(i) == False and isp(st[-1]) >= icp(i):\n",
    "            while st:\n",
    "                top = st[-1]\n",
    "                if isp(top) <= icp(i):\n",
    "                    break\n",
    "                postfix.append(st.pop())\n",
    "            st.append(i)\n",
    "    while st:\n",
    "        postfix.append(st.pop())\n",
    "    print('#{} {}'.format(tc, operate(postfix, ans)))"
   ]
  },
  {
   "cell_type": "markdown",
   "metadata": {},
   "source": [
    "# 1218"
   ]
  },
  {
   "cell_type": "code",
   "execution_count": null,
   "metadata": {},
   "outputs": [],
   "source": [
    "for tc in range(1, 11):\n",
    "    l = int(input())\n",
    "    data = input()\n",
    "    st = []\n",
    "    result = 1\n",
    "    for i in data:\n",
    "        if i == '(' or i == '<' or i == '{' or i == '[':\n",
    "            st.append(i)\n",
    "        elif i == ')':\n",
    "            if st[-1] == '(':\n",
    "                st.pop()\n",
    "            else:\n",
    "                result = 0\n",
    "                break\n",
    "        elif i == ']':\n",
    "            if st[-1] == '[':\n",
    "                st.pop()\n",
    "            else:\n",
    "                result = 0\n",
    "                break\n",
    "        elif i == '>':\n",
    "            if st[-1] == '<':\n",
    "                st.pop()\n",
    "            else:\n",
    "                result = 0\n",
    "                break\n",
    "        elif i == '}':\n",
    "            if st[-1] == '{':\n",
    "                st.pop()\n",
    "            else:\n",
    "                result = 0\n",
    "                break\n",
    "    print('#{} {}'.format(tc, result))"
   ]
  },
  {
   "cell_type": "markdown",
   "metadata": {},
   "source": [
    "# 1861"
   ]
  },
  {
   "cell_type": "code",
   "execution_count": null,
   "metadata": {},
   "outputs": [],
   "source": [
    "for tc in range(int(input())):\n",
    "    n = int(input())\n",
    "    room = [list(map(int, input().split())) for _ in range(n)]\n",
    "    c = [0] * ((n**2)+1)\n",
    "    maxT = -1\n",
    "    cnt = 1\n",
    "    minN = 123456789\n",
    "    dr = [-1, 0, 1, 0]\n",
    "    dc = [0, 1, 0, -1]\n",
    "    for i in range(n):\n",
    "        for j in range(n):\n",
    "            for k in range(4):\n",
    "                nr = i+dr[k]\n",
    "                nc = j+dc[k]\n",
    "                if 0 <= nr < n and 0 <= nc < n:\n",
    "                    if room[nr][nc] - room[i][j] == 1:\n",
    "                        c[room[i][j]] = 1\n",
    "                        break\n",
    "    for i in range(len(c)):\n",
    "        if c[i] == 1:\n",
    "            cnt += 1\n",
    "        elif c[i] == 0:\n",
    "            if cnt > maxT:\n",
    "                maxT = cnt\n",
    "                minN = (i-cnt)+1\n",
    "                cnt = 1\n",
    "            elif cnt == maxT:\n",
    "                if minN > (i-cnt)+1:\n",
    "                    minN = (i-cnt)+1\n",
    "                    cnt = 1\n",
    "                else:\n",
    "                    cnt = 1\n",
    "            else:\n",
    "                cnt = 1\n",
    "\n",
    "    print('#{} {} {}'.format(tc+1, minN, maxT))"
   ]
  },
  {
   "cell_type": "markdown",
   "metadata": {},
   "source": [
    "# 3143"
   ]
  },
  {
   "cell_type": "code",
   "execution_count": null,
   "metadata": {},
   "outputs": [],
   "source": [
    "for tc in range(1, int(input())+1):\n",
    "    a, b = input().split()\n",
    "    print('#{} {}'.format(tc, a.count(b)+(len(a)-len(b)*a.count(b))))"
   ]
  },
  {
   "cell_type": "markdown",
   "metadata": {},
   "source": [
    "# 4259"
   ]
  },
  {
   "cell_type": "code",
   "execution_count": null,
   "metadata": {},
   "outputs": [],
   "source": [
    "for tc in range(1, int(input())+1):\n",
    "    n = int(input())\n",
    "    nums= list(input().split())\n",
    "    result = 0\n",
    "    for num in nums:\n",
    "        result += (int(num[0:len(num)-1])**int(num[-1]))\n",
    "    print('#{} {}'.format(tc, result))"
   ]
  },
  {
   "cell_type": "markdown",
   "metadata": {},
   "source": [
    "# 6109"
   ]
  },
  {
   "cell_type": "code",
   "execution_count": null,
   "metadata": {},
   "outputs": [],
   "source": [
    "def rotate():\n",
    "    global grid\n",
    "    newarr = [[0 for _ in range(int(n))] for _ in range(int(n))]\n",
    "    for i in range(int(n)):\n",
    "        for j in range(int(n)):\n",
    "            newarr[j][int(n)-i-1] = grid[i][j]\n",
    "    grid = newarr\n",
    "\n",
    "for tc in range(1, int(input())+1):\n",
    "    n, d = input().split()\n",
    "    grid = [list(map(int, input().split())) for _ in range(int(n))]\n",
    "    result = []\n",
    "    if d == 'left':\n",
    "        rotate()\n",
    "        rotate()\n",
    "    elif d == 'up':\n",
    "        rotate()\n",
    "    elif d == 'down':\n",
    "        rotate()\n",
    "        rotate()\n",
    "        rotate()\n",
    "    for i in range(int(n)):\n",
    "        st = [j for j in grid[i] if j != 0]\n",
    "        for k in range(len(st)-1, 0, -1):\n",
    "            if st[k] == st[k-1]:\n",
    "                st[k] *= 2\n",
    "                st[k-1] = 0\n",
    "            else: continue\n",
    "        temp = [j for j in st if j != 0]\n",
    "        t = len(temp)\n",
    "        while t != int(n):\n",
    "            temp.insert(0, 0)\n",
    "            t += 1\n",
    "        result.append(temp)\n",
    "    grid = [result[i] for i in range(int(n))]\n",
    "\n",
    "    if d == 'left':\n",
    "        rotate()\n",
    "        rotate()\n",
    "    elif d == 'up':\n",
    "        rotate()\n",
    "        rotate()\n",
    "        rotate()\n",
    "    elif d == 'down':\n",
    "        rotate()\n",
    "\n",
    "    print('#{}'.format(tc))\n",
    "    for k in range(int(n)):\n",
    "        print(' '.join(map(str, grid[k])))"
   ]
  },
  {
   "cell_type": "markdown",
   "metadata": {},
   "source": [
    "# 4261"
   ]
  },
  {
   "cell_type": "code",
   "execution_count": null,
   "metadata": {},
   "outputs": [],
   "source": [
    "keypad = {'2': 'abc', '3': 'def', '4': 'ghi', '5': 'jkl', '6': 'mno', '7': 'pqrs', '8': 'tuv', '9': 'wxyz'}\n",
    "for tc in range(1, int(input())+1):\n",
    "    s, n = map(str, input().split())\n",
    "    words = list(input().split())\n",
    "    cnt = 0\n",
    "    for i in range(int(n)):\n",
    "        if len(words[i]) == len(s):\n",
    "            for j in range(len(words[i])):\n",
    "                if words[i][j] not in keypad[s[j]]: \n",
    "                    break\n",
    "            else: cnt += 1\n",
    "    print(f'#{tc} {cnt}')"
   ]
  },
  {
   "cell_type": "markdown",
   "metadata": {},
   "source": [
    "# 4050"
   ]
  },
  {
   "cell_type": "code",
   "execution_count": null,
   "metadata": {},
   "outputs": [],
   "source": [
    "for tc in range(1, int(input())+1):\n",
    "    n = int(input())\n",
    "    c = list(map(int, input().split()))\n",
    "    c.sort(reverse=True)\n",
    "    minP = 0\n",
    "    for i in range(n):\n",
    "        if i%3 == 2: continue\n",
    "        else:\n",
    "            minP += c[i]\n",
    "    print('#{} {}'.format(tc, minP))"
   ]
  }
 ],
 "metadata": {
  "kernelspec": {
   "display_name": "Python 3",
   "language": "python",
   "name": "python3"
  },
  "language_info": {
   "codemirror_mode": {
    "name": "ipython",
    "version": 3
   },
   "file_extension": ".py",
   "mimetype": "text/x-python",
   "name": "python",
   "nbconvert_exporter": "python",
   "pygments_lexer": "ipython3",
   "version": "3.7.3"
  }
 },
 "nbformat": 4,
 "nbformat_minor": 4
}
