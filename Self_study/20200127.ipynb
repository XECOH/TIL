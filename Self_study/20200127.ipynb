{
 "cells": [
  {
   "cell_type": "markdown",
   "metadata": {},
   "source": [
    "# 2072"
   ]
  },
  {
   "cell_type": "code",
   "execution_count": 20,
   "metadata": {},
   "outputs": [
    {
     "name": "stdout",
     "output_type": "stream",
     "text": [
      "3\n",
      "3 17 1 39 8 41 2 32 99 2\n",
      "22 8 5 123 7 2 63 7 3 46\n",
      "6 63 2 3 58 76 21 33 8 1\n",
      "#1 200\n",
      "#2 208\n",
      "#3 121\n"
     ]
    }
   ],
   "source": [
    "t = int(input())\n",
    "result_1 = []\n",
    "s = 0\n",
    "result_2 = []\n",
    "\n",
    "for i in range(t):\n",
    "    test_case = list(map(int, input().split(' '))) \n",
    "    for j in range(len(test_case)):\n",
    "        if 0 <= test_case[j] <= 10000 and len(test_case) == 10:\n",
    "            if test_case[j] % 2:\n",
    "                result_1.append(test_case[j])\n",
    "        else:\n",
    "            print('0이상 10000이하의 수 10개를 입력해주세요.')\n",
    "    for k in range(len(result_1)):\n",
    "        s += result_1[k]\n",
    "    \n",
    "    result_2.append(s)\n",
    "    result_1 = []\n",
    "    s = 0\n",
    "\n",
    "for l in range(1, (len(result_2) + 1)):\n",
    "    print(f'#{l} {result_2[l-1]}')"
   ]
  },
  {
   "cell_type": "code",
   "execution_count": null,
   "metadata": {},
   "outputs": [],
   "source": []
  }
 ],
 "metadata": {
  "kernelspec": {
   "display_name": "Python 3",
   "language": "python",
   "name": "python3"
  },
  "language_info": {
   "codemirror_mode": {
    "name": "ipython",
    "version": 3
   },
   "file_extension": ".py",
   "mimetype": "text/x-python",
   "name": "python",
   "nbconvert_exporter": "python",
   "pygments_lexer": "ipython3",
   "version": "3.7.3"
  }
 },
 "nbformat": 4,
 "nbformat_minor": 4
}
